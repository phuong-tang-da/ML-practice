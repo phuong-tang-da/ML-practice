{
 "cells": [
  {
   "cell_type": "code",
   "execution_count": 1,
   "id": "8f7d8cf4",
   "metadata": {},
   "outputs": [],
   "source": [
    "import pandas as pd\n",
    "import numpy as np\n",
    "import matplotlib.pyplot as plt\n",
    "\n",
    "from sklearn.preprocessing import scale \n",
    "from sklearn.model_selection import train_test_split\n",
    "from sklearn.linear_model import Ridge, RidgeCV, Lasso, LassoCV,LinearRegression \n",
    "from sklearn.metrics import mean_squared_error\n",
    "\n",
    "from sklearn.model_selection import RepeatedKFold,GridSearchCV\n",
    "%matplotlib inline"
   ]
  },
  {
   "cell_type": "markdown",
   "id": "35aa5721",
   "metadata": {},
   "source": [
    "**Read & inspect data**"
   ]
  },
  {
   "cell_type": "code",
   "execution_count": 2,
   "id": "59e03708",
   "metadata": {},
   "outputs": [
    {
     "data": {
      "text/html": [
       "<div>\n",
       "<style scoped>\n",
       "    .dataframe tbody tr th:only-of-type {\n",
       "        vertical-align: middle;\n",
       "    }\n",
       "\n",
       "    .dataframe tbody tr th {\n",
       "        vertical-align: top;\n",
       "    }\n",
       "\n",
       "    .dataframe thead th {\n",
       "        text-align: right;\n",
       "    }\n",
       "</style>\n",
       "<table border=\"1\" class=\"dataframe\">\n",
       "  <thead>\n",
       "    <tr style=\"text-align: right;\">\n",
       "      <th></th>\n",
       "      <th>AtBat</th>\n",
       "      <th>Hits</th>\n",
       "      <th>HmRun</th>\n",
       "      <th>Runs</th>\n",
       "      <th>RBI</th>\n",
       "      <th>Walks</th>\n",
       "      <th>Years</th>\n",
       "      <th>CAtBat</th>\n",
       "      <th>CHits</th>\n",
       "      <th>CHmRun</th>\n",
       "      <th>CRuns</th>\n",
       "      <th>CRBI</th>\n",
       "      <th>CWalks</th>\n",
       "      <th>League</th>\n",
       "      <th>Division</th>\n",
       "      <th>PutOuts</th>\n",
       "      <th>Assists</th>\n",
       "      <th>Errors</th>\n",
       "      <th>Salary</th>\n",
       "      <th>NewLeague</th>\n",
       "    </tr>\n",
       "  </thead>\n",
       "  <tbody>\n",
       "    <tr>\n",
       "      <th>0</th>\n",
       "      <td>293</td>\n",
       "      <td>66</td>\n",
       "      <td>1</td>\n",
       "      <td>30</td>\n",
       "      <td>29</td>\n",
       "      <td>14</td>\n",
       "      <td>1</td>\n",
       "      <td>293</td>\n",
       "      <td>66</td>\n",
       "      <td>1</td>\n",
       "      <td>30</td>\n",
       "      <td>29</td>\n",
       "      <td>14</td>\n",
       "      <td>A</td>\n",
       "      <td>E</td>\n",
       "      <td>446</td>\n",
       "      <td>33</td>\n",
       "      <td>20</td>\n",
       "      <td>NaN</td>\n",
       "      <td>A</td>\n",
       "    </tr>\n",
       "    <tr>\n",
       "      <th>1</th>\n",
       "      <td>315</td>\n",
       "      <td>81</td>\n",
       "      <td>7</td>\n",
       "      <td>24</td>\n",
       "      <td>38</td>\n",
       "      <td>39</td>\n",
       "      <td>14</td>\n",
       "      <td>3449</td>\n",
       "      <td>835</td>\n",
       "      <td>69</td>\n",
       "      <td>321</td>\n",
       "      <td>414</td>\n",
       "      <td>375</td>\n",
       "      <td>N</td>\n",
       "      <td>W</td>\n",
       "      <td>632</td>\n",
       "      <td>43</td>\n",
       "      <td>10</td>\n",
       "      <td>475.0</td>\n",
       "      <td>N</td>\n",
       "    </tr>\n",
       "    <tr>\n",
       "      <th>2</th>\n",
       "      <td>479</td>\n",
       "      <td>130</td>\n",
       "      <td>18</td>\n",
       "      <td>66</td>\n",
       "      <td>72</td>\n",
       "      <td>76</td>\n",
       "      <td>3</td>\n",
       "      <td>1624</td>\n",
       "      <td>457</td>\n",
       "      <td>63</td>\n",
       "      <td>224</td>\n",
       "      <td>266</td>\n",
       "      <td>263</td>\n",
       "      <td>A</td>\n",
       "      <td>W</td>\n",
       "      <td>880</td>\n",
       "      <td>82</td>\n",
       "      <td>14</td>\n",
       "      <td>480.0</td>\n",
       "      <td>A</td>\n",
       "    </tr>\n",
       "    <tr>\n",
       "      <th>3</th>\n",
       "      <td>496</td>\n",
       "      <td>141</td>\n",
       "      <td>20</td>\n",
       "      <td>65</td>\n",
       "      <td>78</td>\n",
       "      <td>37</td>\n",
       "      <td>11</td>\n",
       "      <td>5628</td>\n",
       "      <td>1575</td>\n",
       "      <td>225</td>\n",
       "      <td>828</td>\n",
       "      <td>838</td>\n",
       "      <td>354</td>\n",
       "      <td>N</td>\n",
       "      <td>E</td>\n",
       "      <td>200</td>\n",
       "      <td>11</td>\n",
       "      <td>3</td>\n",
       "      <td>500.0</td>\n",
       "      <td>N</td>\n",
       "    </tr>\n",
       "    <tr>\n",
       "      <th>4</th>\n",
       "      <td>321</td>\n",
       "      <td>87</td>\n",
       "      <td>10</td>\n",
       "      <td>39</td>\n",
       "      <td>42</td>\n",
       "      <td>30</td>\n",
       "      <td>2</td>\n",
       "      <td>396</td>\n",
       "      <td>101</td>\n",
       "      <td>12</td>\n",
       "      <td>48</td>\n",
       "      <td>46</td>\n",
       "      <td>33</td>\n",
       "      <td>N</td>\n",
       "      <td>E</td>\n",
       "      <td>805</td>\n",
       "      <td>40</td>\n",
       "      <td>4</td>\n",
       "      <td>91.5</td>\n",
       "      <td>N</td>\n",
       "    </tr>\n",
       "  </tbody>\n",
       "</table>\n",
       "</div>"
      ],
      "text/plain": [
       "   AtBat  Hits  HmRun  Runs  RBI  Walks  Years  CAtBat  CHits  CHmRun  CRuns  \\\n",
       "0    293    66      1    30   29     14      1     293     66       1     30   \n",
       "1    315    81      7    24   38     39     14    3449    835      69    321   \n",
       "2    479   130     18    66   72     76      3    1624    457      63    224   \n",
       "3    496   141     20    65   78     37     11    5628   1575     225    828   \n",
       "4    321    87     10    39   42     30      2     396    101      12     48   \n",
       "\n",
       "   CRBI  CWalks League Division  PutOuts  Assists  Errors  Salary NewLeague  \n",
       "0    29      14      A        E      446       33      20     NaN         A  \n",
       "1   414     375      N        W      632       43      10   475.0         N  \n",
       "2   266     263      A        W      880       82      14   480.0         A  \n",
       "3   838     354      N        E      200       11       3   500.0         N  \n",
       "4    46      33      N        E      805       40       4    91.5         N  "
      ]
     },
     "execution_count": 2,
     "metadata": {},
     "output_type": "execute_result"
    }
   ],
   "source": [
    "df = pd.read_csv('Hitters.csv')\n",
    "df.head()"
   ]
  },
  {
   "cell_type": "code",
   "execution_count": 3,
   "id": "a2811398",
   "metadata": {},
   "outputs": [],
   "source": [
    "df.dropna(inplace=True)"
   ]
  },
  {
   "cell_type": "code",
   "execution_count": 4,
   "id": "c54fb275",
   "metadata": {},
   "outputs": [
    {
     "name": "stdout",
     "output_type": "stream",
     "text": [
      "<class 'pandas.core.frame.DataFrame'>\n",
      "Int64Index: 263 entries, 1 to 321\n",
      "Data columns (total 20 columns):\n",
      " #   Column     Non-Null Count  Dtype  \n",
      "---  ------     --------------  -----  \n",
      " 0   AtBat      263 non-null    int64  \n",
      " 1   Hits       263 non-null    int64  \n",
      " 2   HmRun      263 non-null    int64  \n",
      " 3   Runs       263 non-null    int64  \n",
      " 4   RBI        263 non-null    int64  \n",
      " 5   Walks      263 non-null    int64  \n",
      " 6   Years      263 non-null    int64  \n",
      " 7   CAtBat     263 non-null    int64  \n",
      " 8   CHits      263 non-null    int64  \n",
      " 9   CHmRun     263 non-null    int64  \n",
      " 10  CRuns      263 non-null    int64  \n",
      " 11  CRBI       263 non-null    int64  \n",
      " 12  CWalks     263 non-null    int64  \n",
      " 13  League     263 non-null    object \n",
      " 14  Division   263 non-null    object \n",
      " 15  PutOuts    263 non-null    int64  \n",
      " 16  Assists    263 non-null    int64  \n",
      " 17  Errors     263 non-null    int64  \n",
      " 18  Salary     263 non-null    float64\n",
      " 19  NewLeague  263 non-null    object \n",
      "dtypes: float64(1), int64(16), object(3)\n",
      "memory usage: 43.1+ KB\n"
     ]
    }
   ],
   "source": [
    "df.info()"
   ]
  },
  {
   "cell_type": "code",
   "execution_count": 5,
   "id": "eb811065",
   "metadata": {},
   "outputs": [],
   "source": [
    "object_col= df.dtypes[df.dtypes == 'object'].index.to_list()"
   ]
  },
  {
   "cell_type": "code",
   "execution_count": 6,
   "id": "fd080aa1",
   "metadata": {},
   "outputs": [],
   "source": [
    "df= pd.get_dummies(df,drop_first= True)"
   ]
  },
  {
   "cell_type": "code",
   "execution_count": 7,
   "id": "f138180f",
   "metadata": {},
   "outputs": [
    {
     "data": {
      "text/plain": [
       "Index(['AtBat', 'Hits', 'HmRun', 'Runs', 'RBI', 'Walks', 'Years', 'CAtBat',\n",
       "       'CHits', 'CHmRun', 'CRuns', 'CRBI', 'CWalks', 'PutOuts', 'Assists',\n",
       "       'Errors', 'Salary', 'League_N', 'Division_W', 'NewLeague_N'],\n",
       "      dtype='object')"
      ]
     },
     "execution_count": 7,
     "metadata": {},
     "output_type": "execute_result"
    }
   ],
   "source": [
    "df.columns"
   ]
  },
  {
   "cell_type": "code",
   "execution_count": 8,
   "id": "2c1c743a",
   "metadata": {},
   "outputs": [],
   "source": [
    "x= df.drop(['Salary'],axis=1)"
   ]
  },
  {
   "cell_type": "code",
   "execution_count": 9,
   "id": "0bb12f1b",
   "metadata": {},
   "outputs": [],
   "source": [
    "y= df.Salary"
   ]
  },
  {
   "cell_type": "code",
   "execution_count": 10,
   "id": "f9cfd86b",
   "metadata": {},
   "outputs": [],
   "source": [
    "x_train,x_test,y_train,y_test= train_test_split(x,y, test_size= 0.3,random_state= 123)"
   ]
  },
  {
   "cell_type": "code",
   "execution_count": 11,
   "id": "bd56b530",
   "metadata": {},
   "outputs": [
    {
     "data": {
      "text/plain": [
       "(184, 19)"
      ]
     },
     "execution_count": 11,
     "metadata": {},
     "output_type": "execute_result"
    }
   ],
   "source": [
    "x_train.shape"
   ]
  },
  {
   "cell_type": "code",
   "execution_count": 12,
   "id": "8f8d13a6",
   "metadata": {},
   "outputs": [
    {
     "data": {
      "text/plain": [
       "(79, 19)"
      ]
     },
     "execution_count": 12,
     "metadata": {},
     "output_type": "execute_result"
    }
   ],
   "source": [
    "x_test.shape"
   ]
  },
  {
   "cell_type": "markdown",
   "id": "503d4828",
   "metadata": {},
   "source": [
    "# Linear Regression"
   ]
  },
  {
   "cell_type": "code",
   "execution_count": 13,
   "id": "941c29d2",
   "metadata": {},
   "outputs": [],
   "source": [
    "lm=LinearRegression(normalize=True)"
   ]
  },
  {
   "cell_type": "code",
   "execution_count": 14,
   "id": "38bea9ca",
   "metadata": {},
   "outputs": [
    {
     "data": {
      "text/plain": [
       "LinearRegression(normalize=True)"
      ]
     },
     "execution_count": 14,
     "metadata": {},
     "output_type": "execute_result"
    }
   ],
   "source": [
    "lm.fit(x_train,y_train)"
   ]
  },
  {
   "cell_type": "code",
   "execution_count": 15,
   "id": "751d0c6e",
   "metadata": {},
   "outputs": [
    {
     "data": {
      "text/plain": [
       "AtBat           -0.563506\n",
       "Hits            -0.354348\n",
       "HmRun           -7.293162\n",
       "Runs            -0.006273\n",
       "RBI              3.088396\n",
       "Walks            4.504213\n",
       "Years          -26.135771\n",
       "CAtBat          -0.382344\n",
       "CHits            1.628746\n",
       "CHmRun           1.681093\n",
       "CRuns            0.518174\n",
       "CRBI            -0.102791\n",
       "CWalks          -0.166230\n",
       "PutOuts          0.322546\n",
       "Assists          0.483734\n",
       "Errors          -6.563007\n",
       "League_N        80.763985\n",
       "Division_W    -138.026423\n",
       "NewLeague_N    -44.193046\n",
       "dtype: float64"
      ]
     },
     "execution_count": 15,
     "metadata": {},
     "output_type": "execute_result"
    }
   ],
   "source": [
    "pd.Series(lm.coef_,index= x.columns)"
   ]
  },
  {
   "cell_type": "code",
   "execution_count": 16,
   "id": "94510799",
   "metadata": {},
   "outputs": [
    {
     "data": {
      "text/plain": [
       "0.5845361088369815"
      ]
     },
     "execution_count": 16,
     "metadata": {},
     "output_type": "execute_result"
    }
   ],
   "source": [
    "lm.score(x_train,y_train)"
   ]
  },
  {
   "cell_type": "code",
   "execution_count": 17,
   "id": "2e187255",
   "metadata": {},
   "outputs": [
    {
     "data": {
      "text/plain": [
       "0.13869206595056605"
      ]
     },
     "execution_count": 17,
     "metadata": {},
     "output_type": "execute_result"
    }
   ],
   "source": [
    "lm.score(x_test,y_test)\n",
    "# Overfitting"
   ]
  },
  {
   "cell_type": "code",
   "execution_count": 18,
   "id": "2aa51c79",
   "metadata": {},
   "outputs": [
    {
     "data": {
      "text/plain": [
       "149149.64336733537"
      ]
     },
     "execution_count": 18,
     "metadata": {},
     "output_type": "execute_result"
    }
   ],
   "source": [
    "mean_squared_error(y_test,lm.predict(x_test))"
   ]
  },
  {
   "cell_type": "markdown",
   "id": "531d1f53",
   "metadata": {},
   "source": [
    "# Ridge Regression"
   ]
  },
  {
   "cell_type": "markdown",
   "id": "b73de3d6",
   "metadata": {},
   "source": [
    "The Ridge() function has an alpha argument ( λ , but with a different name!) that is used to tune the model"
   ]
  },
  {
   "cell_type": "markdown",
   "id": "a5549367",
   "metadata": {},
   "source": [
    "*We fit a ridge regression model on the training set, and evaluate its MSE on the test set, using λ=0* >> Result will be similar with using Linear Regression"
   ]
  },
  {
   "cell_type": "code",
   "execution_count": 19,
   "id": "7156e0f4",
   "metadata": {},
   "outputs": [],
   "source": [
    "ridge_0= Ridge(alpha = 0, normalize = True)"
   ]
  },
  {
   "cell_type": "code",
   "execution_count": 20,
   "id": "4f691f6f",
   "metadata": {},
   "outputs": [
    {
     "data": {
      "text/plain": [
       "Ridge(alpha=0, normalize=True)"
      ]
     },
     "execution_count": 20,
     "metadata": {},
     "output_type": "execute_result"
    }
   ],
   "source": [
    "ridge_0.fit(x_train, y_train)"
   ]
  },
  {
   "cell_type": "code",
   "execution_count": 21,
   "id": "97056fa0",
   "metadata": {},
   "outputs": [],
   "source": [
    "y0_predict= ridge_0.predict(x_train)"
   ]
  },
  {
   "cell_type": "code",
   "execution_count": 22,
   "id": "e93fa6bc",
   "metadata": {},
   "outputs": [
    {
     "data": {
      "text/plain": [
       "89345.15719488387"
      ]
     },
     "execution_count": 22,
     "metadata": {},
     "output_type": "execute_result"
    }
   ],
   "source": [
    "mean_squared_error(y_train,y0_predict) "
   ]
  },
  {
   "cell_type": "code",
   "execution_count": 23,
   "id": "e967a71c",
   "metadata": {},
   "outputs": [
    {
     "data": {
      "text/plain": [
       "0.5845361088369815"
      ]
     },
     "execution_count": 23,
     "metadata": {},
     "output_type": "execute_result"
    }
   ],
   "source": [
    "ridge_0.score(x_train,y_train)"
   ]
  },
  {
   "cell_type": "code",
   "execution_count": 24,
   "id": "4e6a7705",
   "metadata": {},
   "outputs": [
    {
     "data": {
      "text/plain": [
       "0.13869206595061478"
      ]
     },
     "execution_count": 24,
     "metadata": {},
     "output_type": "execute_result"
    }
   ],
   "source": [
    "ridge_0.score(x_test,y_test)\n",
    "# overfitting on test data"
   ]
  },
  {
   "cell_type": "code",
   "execution_count": 25,
   "id": "82b69275",
   "metadata": {},
   "outputs": [
    {
     "data": {
      "text/plain": [
       "149149.64336732693"
      ]
     },
     "execution_count": 25,
     "metadata": {},
     "output_type": "execute_result"
    }
   ],
   "source": [
    "mean_squared_error(y_test,ridge_0.predict(x_test))"
   ]
  },
  {
   "cell_type": "code",
   "execution_count": 26,
   "id": "e03f690c",
   "metadata": {},
   "outputs": [
    {
     "data": {
      "text/plain": [
       "AtBat           -0.563506\n",
       "Hits            -0.354348\n",
       "HmRun           -7.293162\n",
       "Runs            -0.006273\n",
       "RBI              3.088396\n",
       "Walks            4.504213\n",
       "Years          -26.135771\n",
       "CAtBat          -0.382344\n",
       "CHits            1.628746\n",
       "CHmRun           1.681093\n",
       "CRuns            0.518174\n",
       "CRBI            -0.102791\n",
       "CWalks          -0.166230\n",
       "PutOuts          0.322546\n",
       "Assists          0.483734\n",
       "Errors          -6.563007\n",
       "League_N        80.763985\n",
       "Division_W    -138.026423\n",
       "NewLeague_N    -44.193046\n",
       "dtype: float64"
      ]
     },
     "execution_count": 26,
     "metadata": {},
     "output_type": "execute_result"
    }
   ],
   "source": [
    "pd.Series(ridge_0.coef_,index= x.columns)"
   ]
  },
  {
   "cell_type": "markdown",
   "id": "99f924b3",
   "metadata": {},
   "source": [
    "*We fit a ridge regression model on the training set, and evaluate its MSE on the test set, using  λ=6*"
   ]
  },
  {
   "cell_type": "code",
   "execution_count": 27,
   "id": "1b3fdccf",
   "metadata": {},
   "outputs": [],
   "source": [
    "ridge_4= Ridge(alpha = 6, normalize = True)\n",
    "#we'll want to standardize the variables so that they are on the same scale. \n",
    "#To do this, we can use the normalize = True parameter"
   ]
  },
  {
   "cell_type": "code",
   "execution_count": 28,
   "id": "cb9fa9dc",
   "metadata": {},
   "outputs": [
    {
     "data": {
      "text/plain": [
       "Ridge(alpha=6, normalize=True)"
      ]
     },
     "execution_count": 28,
     "metadata": {},
     "output_type": "execute_result"
    }
   ],
   "source": [
    "ridge_4.fit(x_train, y_train)"
   ]
  },
  {
   "cell_type": "code",
   "execution_count": 29,
   "id": "c25de9fb",
   "metadata": {},
   "outputs": [],
   "source": [
    "y4_predict= ridge_4.predict(x_train)"
   ]
  },
  {
   "cell_type": "code",
   "execution_count": 30,
   "id": "95e7c6e0",
   "metadata": {},
   "outputs": [
    {
     "data": {
      "text/plain": [
       "AtBat           0.076770\n",
       "Hits            0.294408\n",
       "HmRun           0.831747\n",
       "Runs            0.496614\n",
       "RBI             0.498261\n",
       "Walks           0.749548\n",
       "Years           2.569006\n",
       "CAtBat          0.009155\n",
       "CHits           0.035550\n",
       "CHmRun          0.268082\n",
       "CRuns           0.071786\n",
       "CRBI            0.072486\n",
       "CWalks          0.074921\n",
       "PutOuts         0.057635\n",
       "Assists         0.003983\n",
       "Errors         -0.458950\n",
       "League_N        6.016955\n",
       "Division_W    -27.727768\n",
       "NewLeague_N     5.773661\n",
       "dtype: float64"
      ]
     },
     "execution_count": 30,
     "metadata": {},
     "output_type": "execute_result"
    }
   ],
   "source": [
    "pd.Series(ridge_4.coef_,index= x.columns)"
   ]
  },
  {
   "cell_type": "code",
   "execution_count": 31,
   "id": "c82a4990",
   "metadata": {},
   "outputs": [
    {
     "data": {
      "text/plain": [
       "135920.4902049868"
      ]
     },
     "execution_count": 31,
     "metadata": {},
     "output_type": "execute_result"
    }
   ],
   "source": [
    "mean_squared_error(y_train,y4_predict) "
   ]
  },
  {
   "cell_type": "code",
   "execution_count": 32,
   "id": "e06d3df1",
   "metadata": {},
   "outputs": [
    {
     "data": {
      "text/plain": [
       "0.36795616547885623"
      ]
     },
     "execution_count": 32,
     "metadata": {},
     "output_type": "execute_result"
    }
   ],
   "source": [
    "ridge_4.score(x_train,y_train)\n",
    "# reduce the performance on train data"
   ]
  },
  {
   "cell_type": "code",
   "execution_count": 33,
   "id": "343fcff9",
   "metadata": {},
   "outputs": [
    {
     "data": {
      "text/plain": [
       "0.3386451100301352"
      ]
     },
     "execution_count": 33,
     "metadata": {},
     "output_type": "execute_result"
    }
   ],
   "source": [
    "ridge_4.score(x_test,y_test)\n",
    "# improving the overfitting on test data"
   ]
  },
  {
   "cell_type": "code",
   "execution_count": 34,
   "id": "98b4e8ca",
   "metadata": {},
   "outputs": [
    {
     "data": {
      "text/plain": [
       "114524.48314796004"
      ]
     },
     "execution_count": 34,
     "metadata": {},
     "output_type": "execute_result"
    }
   ],
   "source": [
    "mean_squared_error(y_test,ridge_4.predict(x_test))\n",
    "# an improvement on MSE vs Linear model"
   ]
  },
  {
   "cell_type": "markdown",
   "id": "4d82e18b",
   "metadata": {},
   "source": [
    "*Instead of arbitrarily choosing alpha  =4 , it would be better to use cross-validation to choose the tuning parameter alpha. We can do this using the cross-validated ridge regression function, RidgeCV()*"
   ]
  },
  {
   "cell_type": "code",
   "execution_count": 35,
   "id": "88ebe474",
   "metadata": {},
   "outputs": [],
   "source": [
    "cv = RepeatedKFold(n_splits=2, n_repeats=3, random_state=1)\n",
    "ridgecv = RidgeCV(alphas = np.arange(0, 100, 1),cv=cv,\n",
    "                  scoring = 'r2', normalize = True)"
   ]
  },
  {
   "cell_type": "code",
   "execution_count": 36,
   "id": "57197d83",
   "metadata": {},
   "outputs": [
    {
     "data": {
      "text/plain": [
       "RidgeCV(alphas=array([ 0,  1,  2,  3,  4,  5,  6,  7,  8,  9, 10, 11, 12, 13, 14, 15, 16,\n",
       "       17, 18, 19, 20, 21, 22, 23, 24, 25, 26, 27, 28, 29, 30, 31, 32, 33,\n",
       "       34, 35, 36, 37, 38, 39, 40, 41, 42, 43, 44, 45, 46, 47, 48, 49, 50,\n",
       "       51, 52, 53, 54, 55, 56, 57, 58, 59, 60, 61, 62, 63, 64, 65, 66, 67,\n",
       "       68, 69, 70, 71, 72, 73, 74, 75, 76, 77, 78, 79, 80, 81, 82, 83, 84,\n",
       "       85, 86, 87, 88, 89, 90, 91, 92, 93, 94, 95, 96, 97, 98, 99]),\n",
       "        cv=RepeatedKFold(n_repeats=3, n_splits=2, random_state=1),\n",
       "        normalize=True, scoring='r2')"
      ]
     },
     "execution_count": 36,
     "metadata": {},
     "output_type": "execute_result"
    }
   ],
   "source": [
    "ridgecv.fit(x_train, y_train)"
   ]
  },
  {
   "cell_type": "code",
   "execution_count": 37,
   "id": "ebf24518",
   "metadata": {},
   "outputs": [
    {
     "data": {
      "text/plain": [
       "1"
      ]
     },
     "execution_count": 37,
     "metadata": {},
     "output_type": "execute_result"
    }
   ],
   "source": [
    "ridgecv.alpha_\n",
    "# optimal alpha"
   ]
  },
  {
   "cell_type": "code",
   "execution_count": 38,
   "id": "7fce4d20",
   "metadata": {},
   "outputs": [],
   "source": [
    "ridge_op= Ridge(alpha = ridgecv.alpha_, normalize = True)"
   ]
  },
  {
   "cell_type": "code",
   "execution_count": 39,
   "id": "2e2cb81d",
   "metadata": {},
   "outputs": [
    {
     "data": {
      "text/plain": [
       "Ridge(alpha=1, normalize=True)"
      ]
     },
     "execution_count": 39,
     "metadata": {},
     "output_type": "execute_result"
    }
   ],
   "source": [
    "ridge_op.fit(x_train,y_train)"
   ]
  },
  {
   "cell_type": "code",
   "execution_count": 40,
   "id": "07c0e144",
   "metadata": {},
   "outputs": [
    {
     "data": {
      "text/plain": [
       "0.49187659195272704"
      ]
     },
     "execution_count": 40,
     "metadata": {},
     "output_type": "execute_result"
    }
   ],
   "source": [
    "ridge_op.score(x_train,y_train)"
   ]
  },
  {
   "cell_type": "code",
   "execution_count": 41,
   "id": "33878546",
   "metadata": {},
   "outputs": [
    {
     "data": {
      "text/plain": [
       "0.353411616208574"
      ]
     },
     "execution_count": 41,
     "metadata": {},
     "output_type": "execute_result"
    }
   ],
   "source": [
    "ridge_op.score(x_test,y_test)"
   ]
  },
  {
   "cell_type": "code",
   "execution_count": 42,
   "id": "bda57c72",
   "metadata": {},
   "outputs": [
    {
     "data": {
      "text/plain": [
       "111967.41959005104"
      ]
     },
     "execution_count": 42,
     "metadata": {},
     "output_type": "execute_result"
    }
   ],
   "source": [
    "mean_squared_error(y_test,ridge_op.predict(x_test))"
   ]
  },
  {
   "cell_type": "markdown",
   "id": "b9e75ca1",
   "metadata": {},
   "source": [
    "*grid search alpha values and discover what works best for a dataset*"
   ]
  },
  {
   "cell_type": "code",
   "execution_count": 43,
   "id": "8394f463",
   "metadata": {},
   "outputs": [],
   "source": [
    "model = Ridge()"
   ]
  },
  {
   "cell_type": "code",
   "execution_count": 44,
   "id": "3a8e4865",
   "metadata": {},
   "outputs": [
    {
     "data": {
      "text/plain": [
       "{'alpha': array([ 0,  1,  2,  3,  4,  5,  6,  7,  8,  9, 10, 11, 12, 13, 14, 15, 16,\n",
       "        17, 18, 19, 20, 21, 22, 23, 24, 25, 26, 27, 28, 29, 30, 31, 32, 33,\n",
       "        34, 35, 36, 37, 38, 39, 40, 41, 42, 43, 44, 45, 46, 47, 48, 49, 50,\n",
       "        51, 52, 53, 54, 55, 56, 57, 58, 59, 60, 61, 62, 63, 64, 65, 66, 67,\n",
       "        68, 69, 70, 71, 72, 73, 74, 75, 76, 77, 78, 79, 80, 81, 82, 83, 84,\n",
       "        85, 86, 87, 88, 89, 90, 91, 92, 93, 94, 95, 96, 97, 98, 99])}"
      ]
     },
     "execution_count": 44,
     "metadata": {},
     "output_type": "execute_result"
    }
   ],
   "source": [
    "# define model evaluation method\n",
    "cv = RepeatedKFold(n_splits=2, n_repeats=3, random_state=1)\n",
    "grid = dict()\n",
    "grid['alpha'] = np.arange(0, 100, 1)\n",
    "grid"
   ]
  },
  {
   "cell_type": "code",
   "execution_count": 45,
   "id": "ff63568f",
   "metadata": {},
   "outputs": [],
   "source": [
    "# define search\n",
    "search = GridSearchCV(model, grid, \n",
    "                      scoring='r2', cv=cv)"
   ]
  },
  {
   "cell_type": "code",
   "execution_count": 46,
   "id": "f9a844c3",
   "metadata": {},
   "outputs": [],
   "source": [
    "# perform the search\n",
    "results = search.fit(x_train, y_train)"
   ]
  },
  {
   "cell_type": "code",
   "execution_count": 47,
   "id": "7a697055",
   "metadata": {},
   "outputs": [
    {
     "data": {
      "text/plain": [
       "0.30300778026157255"
      ]
     },
     "execution_count": 47,
     "metadata": {},
     "output_type": "execute_result"
    }
   ],
   "source": [
    "results.best_score_"
   ]
  },
  {
   "cell_type": "code",
   "execution_count": 48,
   "id": "15b37ed3",
   "metadata": {},
   "outputs": [
    {
     "data": {
      "text/plain": [
       "{'alpha': 99}"
      ]
     },
     "execution_count": 48,
     "metadata": {},
     "output_type": "execute_result"
    }
   ],
   "source": [
    "results.best_params_"
   ]
  },
  {
   "cell_type": "code",
   "execution_count": 49,
   "id": "8f370d3d",
   "metadata": {},
   "outputs": [],
   "source": [
    "ridge_99= Ridge(alpha=99, normalize= True)"
   ]
  },
  {
   "cell_type": "code",
   "execution_count": 50,
   "id": "37e02066",
   "metadata": {},
   "outputs": [
    {
     "data": {
      "text/plain": [
       "Ridge(alpha=99, normalize=True)"
      ]
     },
     "execution_count": 50,
     "metadata": {},
     "output_type": "execute_result"
    }
   ],
   "source": [
    "ridge_99.fit(x_train,y_train)"
   ]
  },
  {
   "cell_type": "code",
   "execution_count": 51,
   "id": "122e66c8",
   "metadata": {},
   "outputs": [
    {
     "data": {
      "text/plain": [
       "0.06046449666678755"
      ]
     },
     "execution_count": 51,
     "metadata": {},
     "output_type": "execute_result"
    }
   ],
   "source": [
    "ridge_99.score(x_train,y_train)"
   ]
  },
  {
   "cell_type": "code",
   "execution_count": 52,
   "id": "50104dc9",
   "metadata": {},
   "outputs": [
    {
     "data": {
      "text/plain": [
       "0.05810861088071728"
      ]
     },
     "execution_count": 52,
     "metadata": {},
     "output_type": "execute_result"
    }
   ],
   "source": [
    "ridge_99.score(x_test,y_test)"
   ]
  },
  {
   "cell_type": "markdown",
   "id": "629aefd9",
   "metadata": {},
   "source": [
    "# Lasso regression"
   ]
  },
  {
   "cell_type": "code",
   "execution_count": 53,
   "id": "eab122f5",
   "metadata": {},
   "outputs": [],
   "source": [
    "lassocv = LassoCV(alphas = None, cv = 10, max_iter = 100000, normalize = True)"
   ]
  },
  {
   "cell_type": "code",
   "execution_count": 54,
   "id": "193c96f1",
   "metadata": {},
   "outputs": [
    {
     "data": {
      "text/plain": [
       "LassoCV(cv=10, max_iter=100000, normalize=True)"
      ]
     },
     "execution_count": 54,
     "metadata": {},
     "output_type": "execute_result"
    }
   ],
   "source": [
    "lassocv.fit(x_train, y_train)"
   ]
  },
  {
   "cell_type": "code",
   "execution_count": 59,
   "id": "ac053c8a",
   "metadata": {},
   "outputs": [
    {
     "data": {
      "text/plain": [
       "0.39980283411400025"
      ]
     },
     "execution_count": 59,
     "metadata": {},
     "output_type": "execute_result"
    }
   ],
   "source": [
    "lassocv.alpha_\n",
    "# optimal alpha_"
   ]
  },
  {
   "cell_type": "code",
   "execution_count": 56,
   "id": "57604f84",
   "metadata": {},
   "outputs": [],
   "source": [
    "lasso = Lasso(max_iter = 10000, normalize = True)"
   ]
  },
  {
   "cell_type": "code",
   "execution_count": 57,
   "id": "47f69787",
   "metadata": {},
   "outputs": [
    {
     "data": {
      "text/plain": [
       "Lasso(alpha=0.39980283411400025, max_iter=10000, normalize=True)"
      ]
     },
     "execution_count": 57,
     "metadata": {},
     "output_type": "execute_result"
    }
   ],
   "source": [
    "lasso.set_params(alpha=lassocv.alpha_)"
   ]
  },
  {
   "cell_type": "code",
   "execution_count": 61,
   "id": "cdbcc07d",
   "metadata": {},
   "outputs": [
    {
     "data": {
      "text/plain": [
       "Lasso(alpha=0.39980283411400025, max_iter=10000, normalize=True)"
      ]
     },
     "execution_count": 61,
     "metadata": {},
     "output_type": "execute_result"
    }
   ],
   "source": [
    "lasso.fit(x_train, y_train)"
   ]
  },
  {
   "cell_type": "code",
   "execution_count": 62,
   "id": "6c9e489a",
   "metadata": {},
   "outputs": [
    {
     "data": {
      "text/plain": [
       "0.5558880739900794"
      ]
     },
     "execution_count": 62,
     "metadata": {},
     "output_type": "execute_result"
    }
   ],
   "source": [
    "lasso.score(x_train,y_train)"
   ]
  },
  {
   "cell_type": "code",
   "execution_count": 63,
   "id": "31a20834",
   "metadata": {},
   "outputs": [
    {
     "data": {
      "text/plain": [
       "0.23017582941824644"
      ]
     },
     "execution_count": 63,
     "metadata": {},
     "output_type": "execute_result"
    }
   ],
   "source": [
    "lasso.score(x_test,y_test)"
   ]
  },
  {
   "cell_type": "code",
   "execution_count": 66,
   "id": "fce5069d",
   "metadata": {},
   "outputs": [
    {
     "data": {
      "text/plain": [
       "AtBat           -0.000000\n",
       "Hits             0.142440\n",
       "HmRun           -2.649994\n",
       "Runs             0.000000\n",
       "RBI              0.000000\n",
       "Walks            2.865954\n",
       "Years          -27.219902\n",
       "CAtBat          -0.000000\n",
       "CHits            0.036275\n",
       "CHmRun           0.000000\n",
       "CRuns            0.574750\n",
       "CRBI             0.601100\n",
       "CWalks          -0.086848\n",
       "PutOuts          0.313247\n",
       "Assists          0.162286\n",
       "Errors          -4.369054\n",
       "League_N        30.147192\n",
       "Division_W    -146.138872\n",
       "NewLeague_N      0.000000\n",
       "dtype: float64"
      ]
     },
     "execution_count": 66,
     "metadata": {},
     "output_type": "execute_result"
    }
   ],
   "source": [
    "pd.Series(lasso.coef_, index=x.columns)\n",
    "#the lasso has a substantial advantage over ridge regression in that the resulting coefficient estimates are sparse. \n",
    "#Here we see that 6 of the 19 coefficient estimates are exactly zero"
   ]
  },
  {
   "cell_type": "code",
   "execution_count": null,
   "id": "72936c03",
   "metadata": {},
   "outputs": [],
   "source": []
  }
 ],
 "metadata": {
  "kernelspec": {
   "display_name": "Python 3",
   "language": "python",
   "name": "python3"
  },
  "language_info": {
   "codemirror_mode": {
    "name": "ipython",
    "version": 3
   },
   "file_extension": ".py",
   "mimetype": "text/x-python",
   "name": "python",
   "nbconvert_exporter": "python",
   "pygments_lexer": "ipython3",
   "version": "3.8.6"
  }
 },
 "nbformat": 4,
 "nbformat_minor": 5
}
