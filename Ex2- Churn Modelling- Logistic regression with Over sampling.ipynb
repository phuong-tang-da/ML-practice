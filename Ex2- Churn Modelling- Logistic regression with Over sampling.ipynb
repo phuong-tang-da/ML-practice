{
 "cells": [
  {
   "cell_type": "code",
   "execution_count": 1,
   "id": "3521673f",
   "metadata": {},
   "outputs": [],
   "source": [
    "import pandas as pd\n",
    "import numpy as np\n",
    "\n",
    "import matplotlib.pyplot as plt\n",
    "import seaborn as sns\n",
    "\n",
    "from sklearn.preprocessing import StandardScaler\n",
    "from imblearn.over_sampling import SMOTE\n",
    "\n",
    "from sklearn.model_selection import train_test_split\n",
    "from sklearn.linear_model import LogisticRegression\n",
    "from sklearn.metrics import confusion_matrix, accuracy_score, precision_recall_fscore_support, classification_report, roc_curve, auc\n",
    "from sklearn.metrics import log_loss, roc_auc_score, recall_score, precision_score, average_precision_score, f1_score, plot_roc_curve, plot_precision_recall_curve, plot_confusion_matrix\n",
    "\n",
    "\n",
    "%matplotlib inline"
   ]
  },
  {
   "cell_type": "markdown",
   "id": "aec0b726",
   "metadata": {},
   "source": [
    "**Read and inspect data**"
   ]
  },
  {
   "cell_type": "code",
   "execution_count": 2,
   "id": "d165198e",
   "metadata": {},
   "outputs": [
    {
     "data": {
      "text/html": [
       "<div>\n",
       "<style scoped>\n",
       "    .dataframe tbody tr th:only-of-type {\n",
       "        vertical-align: middle;\n",
       "    }\n",
       "\n",
       "    .dataframe tbody tr th {\n",
       "        vertical-align: top;\n",
       "    }\n",
       "\n",
       "    .dataframe thead th {\n",
       "        text-align: right;\n",
       "    }\n",
       "</style>\n",
       "<table border=\"1\" class=\"dataframe\">\n",
       "  <thead>\n",
       "    <tr style=\"text-align: right;\">\n",
       "      <th></th>\n",
       "      <th>RowNumber</th>\n",
       "      <th>CustomerId</th>\n",
       "      <th>Surname</th>\n",
       "      <th>CreditScore</th>\n",
       "      <th>Geography</th>\n",
       "      <th>Gender</th>\n",
       "      <th>Age</th>\n",
       "      <th>Tenure</th>\n",
       "      <th>Balance</th>\n",
       "      <th>NumOfProducts</th>\n",
       "      <th>HasCrCard</th>\n",
       "      <th>IsActiveMember</th>\n",
       "      <th>EstimatedSalary</th>\n",
       "      <th>Exited</th>\n",
       "    </tr>\n",
       "  </thead>\n",
       "  <tbody>\n",
       "    <tr>\n",
       "      <th>0</th>\n",
       "      <td>1</td>\n",
       "      <td>15634602</td>\n",
       "      <td>Hargrave</td>\n",
       "      <td>619</td>\n",
       "      <td>France</td>\n",
       "      <td>Female</td>\n",
       "      <td>42</td>\n",
       "      <td>2</td>\n",
       "      <td>0.00</td>\n",
       "      <td>1</td>\n",
       "      <td>1</td>\n",
       "      <td>1</td>\n",
       "      <td>101348.88</td>\n",
       "      <td>1</td>\n",
       "    </tr>\n",
       "    <tr>\n",
       "      <th>1</th>\n",
       "      <td>2</td>\n",
       "      <td>15647311</td>\n",
       "      <td>Hill</td>\n",
       "      <td>608</td>\n",
       "      <td>Spain</td>\n",
       "      <td>Female</td>\n",
       "      <td>41</td>\n",
       "      <td>1</td>\n",
       "      <td>83807.86</td>\n",
       "      <td>1</td>\n",
       "      <td>0</td>\n",
       "      <td>1</td>\n",
       "      <td>112542.58</td>\n",
       "      <td>0</td>\n",
       "    </tr>\n",
       "    <tr>\n",
       "      <th>2</th>\n",
       "      <td>3</td>\n",
       "      <td>15619304</td>\n",
       "      <td>Onio</td>\n",
       "      <td>502</td>\n",
       "      <td>France</td>\n",
       "      <td>Female</td>\n",
       "      <td>42</td>\n",
       "      <td>8</td>\n",
       "      <td>159660.80</td>\n",
       "      <td>3</td>\n",
       "      <td>1</td>\n",
       "      <td>0</td>\n",
       "      <td>113931.57</td>\n",
       "      <td>1</td>\n",
       "    </tr>\n",
       "    <tr>\n",
       "      <th>3</th>\n",
       "      <td>4</td>\n",
       "      <td>15701354</td>\n",
       "      <td>Boni</td>\n",
       "      <td>699</td>\n",
       "      <td>France</td>\n",
       "      <td>Female</td>\n",
       "      <td>39</td>\n",
       "      <td>1</td>\n",
       "      <td>0.00</td>\n",
       "      <td>2</td>\n",
       "      <td>0</td>\n",
       "      <td>0</td>\n",
       "      <td>93826.63</td>\n",
       "      <td>0</td>\n",
       "    </tr>\n",
       "    <tr>\n",
       "      <th>4</th>\n",
       "      <td>5</td>\n",
       "      <td>15737888</td>\n",
       "      <td>Mitchell</td>\n",
       "      <td>850</td>\n",
       "      <td>Spain</td>\n",
       "      <td>Female</td>\n",
       "      <td>43</td>\n",
       "      <td>2</td>\n",
       "      <td>125510.82</td>\n",
       "      <td>1</td>\n",
       "      <td>1</td>\n",
       "      <td>1</td>\n",
       "      <td>79084.10</td>\n",
       "      <td>0</td>\n",
       "    </tr>\n",
       "  </tbody>\n",
       "</table>\n",
       "</div>"
      ],
      "text/plain": [
       "   RowNumber  CustomerId   Surname  CreditScore Geography  Gender  Age  \\\n",
       "0          1    15634602  Hargrave          619    France  Female   42   \n",
       "1          2    15647311      Hill          608     Spain  Female   41   \n",
       "2          3    15619304      Onio          502    France  Female   42   \n",
       "3          4    15701354      Boni          699    France  Female   39   \n",
       "4          5    15737888  Mitchell          850     Spain  Female   43   \n",
       "\n",
       "   Tenure    Balance  NumOfProducts  HasCrCard  IsActiveMember  \\\n",
       "0       2       0.00              1          1               1   \n",
       "1       1   83807.86              1          0               1   \n",
       "2       8  159660.80              3          1               0   \n",
       "3       1       0.00              2          0               0   \n",
       "4       2  125510.82              1          1               1   \n",
       "\n",
       "   EstimatedSalary  Exited  \n",
       "0        101348.88       1  \n",
       "1        112542.58       0  \n",
       "2        113931.57       1  \n",
       "3         93826.63       0  \n",
       "4         79084.10       0  "
      ]
     },
     "execution_count": 2,
     "metadata": {},
     "output_type": "execute_result"
    }
   ],
   "source": [
    "df= pd.read_csv('Churn_Modelling.csv')\n",
    "df.head()"
   ]
  },
  {
   "cell_type": "code",
   "execution_count": 3,
   "id": "afa6447b",
   "metadata": {},
   "outputs": [
    {
     "name": "stdout",
     "output_type": "stream",
     "text": [
      "0    7963\n",
      "1    2037\n",
      "Name: Exited, dtype: int64\n"
     ]
    },
    {
     "data": {
      "image/png": "[encoded data removed]",
      "text/plain": [
       "<Figure size 432x288 with 1 Axes>"
      ]
     },
     "metadata": {
      "needs_background": "light"
     },
     "output_type": "display_data"
    }
   ],
   "source": [
    "sns.countplot(data=df, x='Exited')\n",
    "print(df.Exited.value_counts())\n",
    "## imbalanced data >> consider resampling"
   ]
  },
  {
   "cell_type": "code",
   "execution_count": 4,
   "id": "944b5595",
   "metadata": {},
   "outputs": [],
   "source": [
    "x= df.iloc[:,3:13]"
   ]
  },
  {
   "cell_type": "code",
   "execution_count": 5,
   "id": "b6d80e2d",
   "metadata": {},
   "outputs": [
    {
     "data": {
      "text/plain": [
       "CreditScore        0\n",
       "Geography          0\n",
       "Gender             0\n",
       "Age                0\n",
       "Tenure             0\n",
       "Balance            0\n",
       "NumOfProducts      0\n",
       "HasCrCard          0\n",
       "IsActiveMember     0\n",
       "EstimatedSalary    0\n",
       "dtype: int64"
      ]
     },
     "execution_count": 5,
     "metadata": {},
     "output_type": "execute_result"
    }
   ],
   "source": [
    "x.isna().sum()"
   ]
  },
  {
   "cell_type": "code",
   "execution_count": 6,
   "id": "a2030ff2",
   "metadata": {},
   "outputs": [
    {
     "name": "stdout",
     "output_type": "stream",
     "text": [
      "<class 'pandas.core.frame.DataFrame'>\n",
      "RangeIndex: 10000 entries, 0 to 9999\n",
      "Data columns (total 10 columns):\n",
      " #   Column           Non-Null Count  Dtype  \n",
      "---  ------           --------------  -----  \n",
      " 0   CreditScore      10000 non-null  int64  \n",
      " 1   Geography        10000 non-null  object \n",
      " 2   Gender           10000 non-null  object \n",
      " 3   Age              10000 non-null  int64  \n",
      " 4   Tenure           10000 non-null  int64  \n",
      " 5   Balance          10000 non-null  float64\n",
      " 6   NumOfProducts    10000 non-null  int64  \n",
      " 7   HasCrCard        10000 non-null  int64  \n",
      " 8   IsActiveMember   10000 non-null  int64  \n",
      " 9   EstimatedSalary  10000 non-null  float64\n",
      "dtypes: float64(2), int64(6), object(2)\n",
      "memory usage: 781.4+ KB\n"
     ]
    }
   ],
   "source": [
    "x.info()"
   ]
  },
  {
   "cell_type": "markdown",
   "id": "8f774931",
   "metadata": {},
   "source": [
    "**Data cleaning & preprocessing**"
   ]
  },
  {
   "cell_type": "code",
   "execution_count": 7,
   "id": "5fb12c37",
   "metadata": {},
   "outputs": [],
   "source": [
    "x= pd.get_dummies(x,drop_first=True)"
   ]
  },
  {
   "cell_type": "code",
   "execution_count": 8,
   "id": "77daf0b2",
   "metadata": {},
   "outputs": [
    {
     "data": {
      "text/plain": [
       "Index(['CreditScore', 'Age', 'Tenure', 'Balance', 'NumOfProducts', 'HasCrCard',\n",
       "       'IsActiveMember', 'EstimatedSalary', 'Geography_Germany',\n",
       "       'Geography_Spain', 'Gender_Male'],\n",
       "      dtype='object')"
      ]
     },
     "execution_count": 8,
     "metadata": {},
     "output_type": "execute_result"
    }
   ],
   "source": [
    "x.columns"
   ]
  },
  {
   "cell_type": "code",
   "execution_count": 9,
   "id": "66d108f2",
   "metadata": {},
   "outputs": [],
   "source": [
    "sc= StandardScaler()"
   ]
  },
  {
   "cell_type": "code",
   "execution_count": 10,
   "id": "08b346fb",
   "metadata": {},
   "outputs": [],
   "source": [
    "x_scale= sc.fit_transform(x)"
   ]
  },
  {
   "cell_type": "markdown",
   "id": "9eb31230",
   "metadata": {},
   "source": [
    "# Logistic Regression"
   ]
  },
  {
   "cell_type": "markdown",
   "id": "1d0745ad",
   "metadata": {},
   "source": [
    "**1.Choose feature**"
   ]
  },
  {
   "cell_type": "code",
   "execution_count": 11,
   "id": "9869cfd7",
   "metadata": {},
   "outputs": [],
   "source": [
    "y= df['Exited']"
   ]
  },
  {
   "cell_type": "code",
   "execution_count": 12,
   "id": "f28a0b90",
   "metadata": {},
   "outputs": [
    {
     "data": {
      "text/plain": [
       "(10000, 11)"
      ]
     },
     "execution_count": 12,
     "metadata": {},
     "output_type": "execute_result"
    }
   ],
   "source": [
    "x_scale.shape"
   ]
  },
  {
   "cell_type": "markdown",
   "id": "5c500e6f",
   "metadata": {},
   "source": [
    "**2.Split data**"
   ]
  },
  {
   "cell_type": "code",
   "execution_count": 13,
   "id": "acb351a9",
   "metadata": {},
   "outputs": [],
   "source": [
    "x_train,x_test,y_train,y_test= train_test_split(x_scale,y,test_size= 0.2, random_state=0)"
   ]
  },
  {
   "cell_type": "code",
   "execution_count": 14,
   "id": "d4305550",
   "metadata": {},
   "outputs": [
    {
     "data": {
      "text/plain": [
       "(8000, 11)"
      ]
     },
     "execution_count": 14,
     "metadata": {},
     "output_type": "execute_result"
    }
   ],
   "source": [
    "x_train.shape"
   ]
  },
  {
   "cell_type": "markdown",
   "id": "ec8e0cf6",
   "metadata": {},
   "source": [
    "**3.Train model**"
   ]
  },
  {
   "cell_type": "code",
   "execution_count": 15,
   "id": "63ab5078",
   "metadata": {},
   "outputs": [],
   "source": [
    "model= LogisticRegression(max_iter=200, multi_class= 'ovr')"
   ]
  },
  {
   "cell_type": "code",
   "execution_count": 16,
   "id": "c3e86013",
   "metadata": {},
   "outputs": [
    {
     "data": {
      "text/plain": [
       "LogisticRegression(max_iter=200, multi_class='ovr')"
      ]
     },
     "execution_count": 16,
     "metadata": {},
     "output_type": "execute_result"
    }
   ],
   "source": [
    "model.fit(x_train,y_train)"
   ]
  },
  {
   "cell_type": "markdown",
   "id": "0624b41a",
   "metadata": {},
   "source": [
    "*interpret the results*"
   ]
  },
  {
   "cell_type": "code",
   "execution_count": 17,
   "id": "4a42fe4b",
   "metadata": {},
   "outputs": [
    {
     "data": {
      "text/html": [
       "<div>\n",
       "<style scoped>\n",
       "    .dataframe tbody tr th:only-of-type {\n",
       "        vertical-align: middle;\n",
       "    }\n",
       "\n",
       "    .dataframe tbody tr th {\n",
       "        vertical-align: top;\n",
       "    }\n",
       "\n",
       "    .dataframe thead th {\n",
       "        text-align: right;\n",
       "    }\n",
       "</style>\n",
       "<table border=\"1\" class=\"dataframe\">\n",
       "  <thead>\n",
       "    <tr style=\"text-align: right;\">\n",
       "      <th></th>\n",
       "      <th>variable</th>\n",
       "      <th>coefficient</th>\n",
       "      <th>exp</th>\n",
       "    </tr>\n",
       "  </thead>\n",
       "  <tbody>\n",
       "    <tr>\n",
       "      <th>0</th>\n",
       "      <td>intercept</td>\n",
       "      <td>-1.636731</td>\n",
       "      <td>0.194615</td>\n",
       "    </tr>\n",
       "    <tr>\n",
       "      <th>1</th>\n",
       "      <td>CreditScore</td>\n",
       "      <td>-0.072058</td>\n",
       "      <td>0.930477</td>\n",
       "    </tr>\n",
       "    <tr>\n",
       "      <th>2</th>\n",
       "      <td>Age</td>\n",
       "      <td>0.754506</td>\n",
       "      <td>2.126562</td>\n",
       "    </tr>\n",
       "    <tr>\n",
       "      <th>3</th>\n",
       "      <td>Tenure</td>\n",
       "      <td>-0.081383</td>\n",
       "      <td>0.921841</td>\n",
       "    </tr>\n",
       "    <tr>\n",
       "      <th>4</th>\n",
       "      <td>Balance</td>\n",
       "      <td>0.153207</td>\n",
       "      <td>1.165566</td>\n",
       "    </tr>\n",
       "    <tr>\n",
       "      <th>5</th>\n",
       "      <td>NumOfProducts</td>\n",
       "      <td>-0.085291</td>\n",
       "      <td>0.918245</td>\n",
       "    </tr>\n",
       "    <tr>\n",
       "      <th>6</th>\n",
       "      <td>HasCrCard</td>\n",
       "      <td>-0.023714</td>\n",
       "      <td>0.976565</td>\n",
       "    </tr>\n",
       "    <tr>\n",
       "      <th>7</th>\n",
       "      <td>IsActiveMember</td>\n",
       "      <td>-0.518148</td>\n",
       "      <td>0.595623</td>\n",
       "    </tr>\n",
       "    <tr>\n",
       "      <th>8</th>\n",
       "      <td>EstimatedSalary</td>\n",
       "      <td>0.029155</td>\n",
       "      <td>1.029584</td>\n",
       "    </tr>\n",
       "    <tr>\n",
       "      <th>9</th>\n",
       "      <td>Geography_Germany</td>\n",
       "      <td>0.358658</td>\n",
       "      <td>1.431407</td>\n",
       "    </tr>\n",
       "    <tr>\n",
       "      <th>10</th>\n",
       "      <td>Geography_Spain</td>\n",
       "      <td>0.048220</td>\n",
       "      <td>1.049402</td>\n",
       "    </tr>\n",
       "    <tr>\n",
       "      <th>11</th>\n",
       "      <td>Gender_Male</td>\n",
       "      <td>-0.269140</td>\n",
       "      <td>0.764037</td>\n",
       "    </tr>\n",
       "  </tbody>\n",
       "</table>\n",
       "</div>"
      ],
      "text/plain": [
       "             variable  coefficient       exp\n",
       "0           intercept    -1.636731  0.194615\n",
       "1         CreditScore    -0.072058  0.930477\n",
       "2                 Age     0.754506  2.126562\n",
       "3              Tenure    -0.081383  0.921841\n",
       "4             Balance     0.153207  1.165566\n",
       "5       NumOfProducts    -0.085291  0.918245\n",
       "6           HasCrCard    -0.023714  0.976565\n",
       "7      IsActiveMember    -0.518148  0.595623\n",
       "8     EstimatedSalary     0.029155  1.029584\n",
       "9   Geography_Germany     0.358658  1.431407\n",
       "10    Geography_Spain     0.048220  1.049402\n",
       "11        Gender_Male    -0.269140  0.764037"
      ]
     },
     "execution_count": 17,
     "metadata": {},
     "output_type": "execute_result"
    }
   ],
   "source": [
    "coefficients = np.hstack((model.intercept_, model.coef_[0]))\n",
    "pd.DataFrame(data={'variable': ['intercept'] + x.columns.to_list() , 'coefficient': coefficients,'exp':np.exp(coefficients)})\n",
    "# For categorical feature gender, this fitted model says that holding all the other features at fixed values, \n",
    "# the odds of churn for males (sex=1) to the odds of churn for females is 0.76. "
   ]
  },
  {
   "cell_type": "code",
   "execution_count": 18,
   "id": "fc162242",
   "metadata": {},
   "outputs": [
    {
     "data": {
      "text/plain": [
       "0.7710515858035663"
      ]
     },
     "execution_count": 18,
     "metadata": {},
     "output_type": "execute_result"
    }
   ],
   "source": [
    "np.exp(-0.26)"
   ]
  },
  {
   "cell_type": "code",
   "execution_count": 19,
   "id": "960b9397",
   "metadata": {},
   "outputs": [
    {
     "data": {
      "text/plain": [
       "array([9.34100000e+03, 1.10000000e+02, 8.00000000e+00, 3.89304683e+09,\n",
       "       0.00000000e+00, 0.00000000e+00, 0.00000000e+00, 3.30712604e+09,\n",
       "       0.00000000e+00, 0.00000000e+00, 0.00000000e+00])"
      ]
     },
     "execution_count": 19,
     "metadata": {},
     "output_type": "execute_result"
    }
   ],
   "source": [
    "sc.var_.round(0)"
   ]
  },
  {
   "cell_type": "markdown",
   "id": "494b9ad0",
   "metadata": {},
   "source": [
    "**4.Evaluate model**"
   ]
  },
  {
   "cell_type": "markdown",
   "id": "5535da8e",
   "metadata": {},
   "source": [
    "***Train dataset - Threshold = 0.5***"
   ]
  },
  {
   "cell_type": "markdown",
   "id": "e8315401",
   "metadata": {},
   "source": [
    "*Key metric*"
   ]
  },
  {
   "cell_type": "code",
   "execution_count": 20,
   "id": "779217e4",
   "metadata": {},
   "outputs": [
    {
     "data": {
      "text/plain": [
       "0.8085"
      ]
     },
     "execution_count": 20,
     "metadata": {},
     "output_type": "execute_result"
    }
   ],
   "source": [
    "accuracy_score(y_train,model.predict(x_train))"
   ]
  },
  {
   "cell_type": "code",
   "execution_count": 21,
   "id": "b330c235",
   "metadata": {},
   "outputs": [
    {
     "data": {
      "text/plain": [
       "0.5856164383561644"
      ]
     },
     "execution_count": 21,
     "metadata": {},
     "output_type": "execute_result"
    }
   ],
   "source": [
    "precision_score(y_train,model.predict(x_train))"
   ]
  },
  {
   "cell_type": "code",
   "execution_count": 22,
   "id": "859048ab",
   "metadata": {},
   "outputs": [
    {
     "data": {
      "text/plain": [
       "0.20955882352941177"
      ]
     },
     "execution_count": 22,
     "metadata": {},
     "output_type": "execute_result"
    }
   ],
   "source": [
    "recall_score(y_train,model.predict(x_train))"
   ]
  },
  {
   "cell_type": "code",
   "execution_count": 23,
   "id": "8a3cb7f7",
   "metadata": {},
   "outputs": [
    {
     "data": {
      "text/plain": [
       "0.30866425992779783"
      ]
     },
     "execution_count": 23,
     "metadata": {},
     "output_type": "execute_result"
    }
   ],
   "source": [
    "f1_score(y_train,model.predict(x_train))"
   ]
  },
  {
   "cell_type": "code",
   "execution_count": 24,
   "id": "4767d199",
   "metadata": {},
   "outputs": [
    {
     "data": {
      "text/plain": [
       "0.7662073387772194"
      ]
     },
     "execution_count": 24,
     "metadata": {},
     "output_type": "execute_result"
    }
   ],
   "source": [
    "roc_auc_score(y_train,model.predict_proba(x_train)[:,1])\n",
    "#Compute the area under the ROC curve"
   ]
  },
  {
   "cell_type": "code",
   "execution_count": 25,
   "id": "20b35539",
   "metadata": {},
   "outputs": [
    {
     "data": {
      "text/plain": [
       "0.4669144928145638"
      ]
     },
     "execution_count": 25,
     "metadata": {},
     "output_type": "execute_result"
    }
   ],
   "source": [
    "average_precision_score(y_train,model.predict_proba(x_train)[:,1])"
   ]
  },
  {
   "cell_type": "markdown",
   "id": "e48cecbf",
   "metadata": {},
   "source": [
    "*Confusion matrix*"
   ]
  },
  {
   "cell_type": "code",
   "execution_count": 26,
   "id": "7d63c4f2",
   "metadata": {},
   "outputs": [
    {
     "data": {
      "image/png": "[encoded data removed]",
      "text/plain": [
       "<Figure size 432x288 with 2 Axes>"
      ]
     },
     "metadata": {
      "needs_background": "light"
     },
     "output_type": "display_data"
    }
   ],
   "source": [
    "# confusion matrix\n",
    "cm= pd.DataFrame(confusion_matrix(y_train,model.predict(x_train)), index= ['Negative','Positive'],\n",
    "                 columns= ['Negative','Positive'])\n",
    "sns.heatmap(cm,annot=True,fmt='g', cmap='Blues')\n",
    "plt.ylabel('True value')\n",
    "plt.xlabel('Predicted value');"
   ]
  },
  {
   "cell_type": "code",
   "execution_count": 27,
   "id": "104faca6",
   "metadata": {},
   "outputs": [
    {
     "data": {
      "image/png": "[encoded data removed]",
      "text/plain": [
       "<Figure size 432x288 with 2 Axes>"
      ]
     },
     "metadata": {
      "needs_background": "light"
     },
     "output_type": "display_data"
    }
   ],
   "source": [
    "plot_confusion_matrix(model,x_train, y_train,cmap='Blues');"
   ]
  },
  {
   "cell_type": "markdown",
   "id": "cbdfa05d",
   "metadata": {},
   "source": [
    "*Report*"
   ]
  },
  {
   "cell_type": "code",
   "execution_count": 28,
   "id": "e92ce33b",
   "metadata": {},
   "outputs": [
    {
     "name": "stdout",
     "output_type": "stream",
     "text": [
      "              precision    recall  f1-score   support\n",
      "\n",
      "    negative       0.83      0.96      0.89      6368\n",
      "    positive       0.59      0.21      0.31      1632\n",
      "\n",
      "    accuracy                           0.81      8000\n",
      "   macro avg       0.71      0.59      0.60      8000\n",
      "weighted avg       0.78      0.81      0.77      8000\n",
      "\n"
     ]
    }
   ],
   "source": [
    "# report on train data\n",
    "print(classification_report(y_train,model.predict(x_train),target_names= ['negative','positive']))\n",
    "## Model have very low performance on Churned customer (low precision & recall)"
   ]
  },
  {
   "cell_type": "code",
   "execution_count": 29,
   "id": "dcc5e93b",
   "metadata": {},
   "outputs": [
    {
     "name": "stdout",
     "output_type": "stream",
     "text": [
      "              precision    recall  f1-score   support\n",
      "\n",
      "    negative       0.83      0.96      0.89      1595\n",
      "    positive       0.58      0.24      0.34       405\n",
      "\n",
      "    accuracy                           0.81      2000\n",
      "   macro avg       0.71      0.60      0.61      2000\n",
      "weighted avg       0.78      0.81      0.78      2000\n",
      "\n"
     ]
    }
   ],
   "source": [
    "# report on test data\n",
    "print(classification_report(y_test,model.predict(x_test),target_names= ['negative','positive']))"
   ]
  },
  {
   "cell_type": "code",
   "execution_count": 30,
   "id": "c50371cf",
   "metadata": {},
   "outputs": [
    {
     "data": {
      "text/plain": [
       "array([[0.82302475, 0.17697525],\n",
       "       [0.77786634, 0.22213366],\n",
       "       [0.8009051 , 0.1990949 ],\n",
       "       ...,\n",
       "       [0.85387065, 0.14612935],\n",
       "       [0.91283593, 0.08716407],\n",
       "       [0.32729897, 0.67270103]])"
      ]
     },
     "execution_count": 30,
     "metadata": {},
     "output_type": "execute_result"
    }
   ],
   "source": [
    "# get probability prediction\n",
    "model.predict_proba(x_train)\n",
    "# first columns is for class 0, 2nd columns is for class 1"
   ]
  },
  {
   "cell_type": "markdown",
   "id": "b69a8a0e",
   "metadata": {},
   "source": [
    "*ROC Curve*"
   ]
  },
  {
   "cell_type": "code",
   "execution_count": 31,
   "id": "a844f05c",
   "metadata": {},
   "outputs": [],
   "source": [
    "y_scores= model.predict_proba(x_train)[:,1]\n",
    "fpr,tpr,thresholds= roc_curve(y_train,y_scores)"
   ]
  },
  {
   "cell_type": "code",
   "execution_count": 32,
   "id": "7caa688c",
   "metadata": {},
   "outputs": [
    {
     "data": {
      "image/png": "[encoded data removed]",
      "text/plain": [
       "<Figure size 432x288 with 1 Axes>"
      ]
     },
     "metadata": {
      "needs_background": "light"
     },
     "output_type": "display_data"
    },
    {
     "name": "stdout",
     "output_type": "stream",
     "text": [
      "AUC 0.7662073387772194\n"
     ]
    }
   ],
   "source": [
    "#ROC plot\n",
    "plt.plot([0,1],[0,1],linestyle='--')\n",
    "plt.plot(fpr,tpr,marker='.',markersize=1)\n",
    "plt.title('ROC Curve')\n",
    "plt.xlabel('False Positive Rate')\n",
    "plt.ylabel('True Positive Rate')\n",
    "plt.show()\n",
    "print(\"AUC\",auc(fpr,tpr))"
   ]
  },
  {
   "cell_type": "code",
   "execution_count": 33,
   "id": "b1cd5f1f",
   "metadata": {},
   "outputs": [
    {
     "name": "stdout",
     "output_type": "stream",
     "text": [
      "0.7662073387772194\n"
     ]
    },
    {
     "data": {
      "image/png": "[encoded data removed]",
      "text/plain": [
       "<Figure size 432x288 with 1 Axes>"
      ]
     },
     "metadata": {
      "needs_background": "light"
     },
     "output_type": "display_data"
    }
   ],
   "source": [
    "#ROC plot\n",
    "plot_roc_curve(model, x_train, y_train)\n",
    "plt.title('ROC Curve')\n",
    "plt.xlabel('False Positive Rate')\n",
    "plt.ylabel('True Positive Rate');\n",
    "print(roc_auc_score(y_train,y_scores))"
   ]
  },
  {
   "cell_type": "markdown",
   "id": "ee8c99ee",
   "metadata": {},
   "source": [
    "*Precision-recall curve*"
   ]
  },
  {
   "cell_type": "code",
   "execution_count": 34,
   "id": "916b499c",
   "metadata": {},
   "outputs": [
    {
     "name": "stdout",
     "output_type": "stream",
     "text": [
      "0.4669144928145638\n"
     ]
    },
    {
     "data": {
      "image/png": "[encoded data removed]",
      "text/plain": [
       "<Figure size 432x288 with 1 Axes>"
      ]
     },
     "metadata": {
      "needs_background": "light"
     },
     "output_type": "display_data"
    }
   ],
   "source": [
    "plot_precision_recall_curve(model, x_train,y_train)\n",
    "print(average_precision_score(y_train,y_scores))"
   ]
  },
  {
   "cell_type": "markdown",
   "id": "1538880a",
   "metadata": {},
   "source": [
    "***Examine the result base on probability prediction to see impact of changing threshold***"
   ]
  },
  {
   "cell_type": "code",
   "execution_count": 35,
   "id": "cbb684a7",
   "metadata": {},
   "outputs": [
    {
     "data": {
      "text/html": [
       "<div>\n",
       "<style scoped>\n",
       "    .dataframe tbody tr th:only-of-type {\n",
       "        vertical-align: middle;\n",
       "    }\n",
       "\n",
       "    .dataframe tbody tr th {\n",
       "        vertical-align: top;\n",
       "    }\n",
       "\n",
       "    .dataframe thead th {\n",
       "        text-align: right;\n",
       "    }\n",
       "</style>\n",
       "<table border=\"1\" class=\"dataframe\">\n",
       "  <thead>\n",
       "    <tr style=\"text-align: right;\">\n",
       "      <th></th>\n",
       "      <th>Exited</th>\n",
       "    </tr>\n",
       "  </thead>\n",
       "  <tbody>\n",
       "    <tr>\n",
       "      <th>7389</th>\n",
       "      <td>0</td>\n",
       "    </tr>\n",
       "    <tr>\n",
       "      <th>9275</th>\n",
       "      <td>0</td>\n",
       "    </tr>\n",
       "    <tr>\n",
       "      <th>2995</th>\n",
       "      <td>0</td>\n",
       "    </tr>\n",
       "    <tr>\n",
       "      <th>5316</th>\n",
       "      <td>0</td>\n",
       "    </tr>\n",
       "    <tr>\n",
       "      <th>356</th>\n",
       "      <td>0</td>\n",
       "    </tr>\n",
       "  </tbody>\n",
       "</table>\n",
       "</div>"
      ],
      "text/plain": [
       "      Exited\n",
       "7389       0\n",
       "9275       0\n",
       "2995       0\n",
       "5316       0\n",
       "356        0"
      ]
     },
     "execution_count": 35,
     "metadata": {},
     "output_type": "execute_result"
    }
   ],
   "source": [
    "y_traindf= pd.DataFrame(y_train)\n",
    "y_traindf.head()"
   ]
  },
  {
   "cell_type": "code",
   "execution_count": 36,
   "id": "938742dc",
   "metadata": {},
   "outputs": [
    {
     "data": {
      "text/html": [
       "<div>\n",
       "<style scoped>\n",
       "    .dataframe tbody tr th:only-of-type {\n",
       "        vertical-align: middle;\n",
       "    }\n",
       "\n",
       "    .dataframe tbody tr th {\n",
       "        vertical-align: top;\n",
       "    }\n",
       "\n",
       "    .dataframe thead th {\n",
       "        text-align: right;\n",
       "    }\n",
       "</style>\n",
       "<table border=\"1\" class=\"dataframe\">\n",
       "  <thead>\n",
       "    <tr style=\"text-align: right;\">\n",
       "      <th></th>\n",
       "      <th>Exited</th>\n",
       "      <th>Proba</th>\n",
       "    </tr>\n",
       "  </thead>\n",
       "  <tbody>\n",
       "    <tr>\n",
       "      <th>7389</th>\n",
       "      <td>0</td>\n",
       "      <td>0.176975</td>\n",
       "    </tr>\n",
       "    <tr>\n",
       "      <th>9275</th>\n",
       "      <td>0</td>\n",
       "      <td>0.222134</td>\n",
       "    </tr>\n",
       "    <tr>\n",
       "      <th>2995</th>\n",
       "      <td>0</td>\n",
       "      <td>0.199095</td>\n",
       "    </tr>\n",
       "    <tr>\n",
       "      <th>5316</th>\n",
       "      <td>0</td>\n",
       "      <td>0.227049</td>\n",
       "    </tr>\n",
       "    <tr>\n",
       "      <th>356</th>\n",
       "      <td>0</td>\n",
       "      <td>0.300575</td>\n",
       "    </tr>\n",
       "  </tbody>\n",
       "</table>\n",
       "</div>"
      ],
      "text/plain": [
       "      Exited     Proba\n",
       "7389       0  0.176975\n",
       "9275       0  0.222134\n",
       "2995       0  0.199095\n",
       "5316       0  0.227049\n",
       "356        0  0.300575"
      ]
     },
     "execution_count": 36,
     "metadata": {},
     "output_type": "execute_result"
    }
   ],
   "source": [
    "y_traindf['Proba']=y_scores\n",
    "y_traindf.head()"
   ]
  },
  {
   "cell_type": "code",
   "execution_count": 37,
   "id": "39035cf6",
   "metadata": {},
   "outputs": [
    {
     "data": {
      "text/plain": [
       "<AxesSubplot:xlabel='Exited', ylabel='Proba'>"
      ]
     },
     "execution_count": 37,
     "metadata": {},
     "output_type": "execute_result"
    },
    {
     "data": {
      "image/png": "[encoded data removed]",
      "text/plain": [
       "<Figure size 720x720 with 1 Axes>"
      ]
     },
     "metadata": {
      "needs_background": "light"
     },
     "output_type": "display_data"
    }
   ],
   "source": [
    "# Visualize 2 classes based on predicted probability to see how the thresholds may impact recall & precision\n",
    "plt.figure(figsize= (10,10))\n",
    "sns.swarmplot(data=y_traindf,x='Exited',y='Proba',size=2)\n",
    "#can use stripplot\n",
    "# Decrease threshold >> increase recall, at a cost of lower precision \n",
    "# Increase threshold >> decrease recall, precision may or may not increase"
   ]
  },
  {
   "cell_type": "code",
   "execution_count": 38,
   "id": "a707886b",
   "metadata": {},
   "outputs": [
    {
     "data": {
      "image/png": "[encoded data removed]",
      "text/plain": [
       "<Figure size 576x360 with 1 Axes>"
      ]
     },
     "metadata": {
      "needs_background": "light"
     },
     "output_type": "display_data"
    }
   ],
   "source": [
    "# Visualize 2 classes based on predicted probability to see how the thresholds may impact recall & precision\n",
    "plt.figure(figsize= (8,5))\n",
    "sns.histplot(y_traindf.Proba[y_traindf.Exited == 1],label= 'positive',color='r',\n",
    "             bins=[0,0.1,0.2,0.3,0.4,0.5,0.6,0.7,0.8,0.9,1],stat='count',element='poly',fill=False)\n",
    "sns.histplot(y_traindf.Proba[y_traindf.Exited == 0],label= 'negative',color='b',\n",
    "             bins=[0,0.1,0.2,0.3,0.4,0.5,0.6,0.7,0.8,0.9,1],stat='count',element='poly',fill=False)\n",
    "plt.axvline(x=0.5,linestyle='--',color='black')\n",
    "plt.axvline(x=0.22,linestyle='--',color='green')\n",
    "plt.legend();\n",
    "# increase threshold does not mean \n",
    "# decrease thresholds: true positive obtained (red) < false positive obtained (blue) ->> decrease precision\n",
    "# thresholds> 0.8: true positive obtain(red) < false postive obtain (blue) --> decrease precision\n"
   ]
  },
  {
   "cell_type": "code",
   "execution_count": 39,
   "id": "38d3045c",
   "metadata": {},
   "outputs": [
    {
     "data": {
      "image/png": "[encoded data removed]",
      "text/plain": [
       "<Figure size 576x360 with 1 Axes>"
      ]
     },
     "metadata": {
      "needs_background": "light"
     },
     "output_type": "display_data"
    }
   ],
   "source": [
    "# Visualize 2 classes based on predicted probability to see how the thresholds may impact recall & precision\n",
    "plt.figure(figsize= (8,5))\n",
    "sns.kdeplot(y_traindf.Proba[y_traindf.Exited == 1],label= 'positive',color='r')\n",
    "sns.kdeplot(y_traindf.Proba[y_traindf.Exited == 0],label= 'negative',color='b')\n",
    "plt.axvline(x=0.5,linestyle='--',color='black')\n",
    "plt.axvline(x=0.22,linestyle='--',color='green')\n",
    "plt.legend();"
   ]
  },
  {
   "cell_type": "markdown",
   "id": "c69d4544",
   "metadata": {},
   "source": [
    "***Evaluate train model threshold***"
   ]
  },
  {
   "cell_type": "code",
   "execution_count": 40,
   "id": "f1ddb435",
   "metadata": {},
   "outputs": [
    {
     "data": {
      "text/html": [
       "<div>\n",
       "<style scoped>\n",
       "    .dataframe tbody tr th:only-of-type {\n",
       "        vertical-align: middle;\n",
       "    }\n",
       "\n",
       "    .dataframe tbody tr th {\n",
       "        vertical-align: top;\n",
       "    }\n",
       "\n",
       "    .dataframe thead th {\n",
       "        text-align: right;\n",
       "    }\n",
       "</style>\n",
       "<table border=\"1\" class=\"dataframe\">\n",
       "  <thead>\n",
       "    <tr style=\"text-align: right;\">\n",
       "      <th></th>\n",
       "      <th>Exited</th>\n",
       "      <th>Proba</th>\n",
       "    </tr>\n",
       "  </thead>\n",
       "  <tbody>\n",
       "    <tr>\n",
       "      <th>7389</th>\n",
       "      <td>0</td>\n",
       "      <td>0.176975</td>\n",
       "    </tr>\n",
       "    <tr>\n",
       "      <th>9275</th>\n",
       "      <td>0</td>\n",
       "      <td>0.222134</td>\n",
       "    </tr>\n",
       "    <tr>\n",
       "      <th>2995</th>\n",
       "      <td>0</td>\n",
       "      <td>0.199095</td>\n",
       "    </tr>\n",
       "    <tr>\n",
       "      <th>5316</th>\n",
       "      <td>0</td>\n",
       "      <td>0.227049</td>\n",
       "    </tr>\n",
       "    <tr>\n",
       "      <th>356</th>\n",
       "      <td>0</td>\n",
       "      <td>0.300575</td>\n",
       "    </tr>\n",
       "  </tbody>\n",
       "</table>\n",
       "</div>"
      ],
      "text/plain": [
       "      Exited     Proba\n",
       "7389       0  0.176975\n",
       "9275       0  0.222134\n",
       "2995       0  0.199095\n",
       "5316       0  0.227049\n",
       "356        0  0.300575"
      ]
     },
     "execution_count": 40,
     "metadata": {},
     "output_type": "execute_result"
    }
   ],
   "source": [
    "y_traindf.head()"
   ]
  },
  {
   "cell_type": "code",
   "execution_count": 41,
   "id": "66a9e505",
   "metadata": {},
   "outputs": [
    {
     "name": "stdout",
     "output_type": "stream",
     "text": [
      "threshold: 0.0 accuracy:  0.2\n",
      "threshold: 0.1 accuracy:  0.48\n",
      "threshold: 0.2 accuracy:  0.7\n",
      "threshold: 0.3 accuracy:  0.78\n",
      "threshold: 0.4 accuracy:  0.81\n",
      "threshold: 0.5 accuracy:  0.81\n",
      "threshold: 0.6 accuracy:  0.81\n",
      "threshold: 0.7 accuracy:  0.8\n",
      "threshold: 0.8 accuracy:  0.8\n",
      "threshold: 0.9 accuracy:  0.8\n"
     ]
    }
   ],
   "source": [
    "# accuracy\n",
    "for i in np.arange(0,1,0.1):\n",
    "    print('threshold:' , i.round(1), \"accuracy: \", accuracy_score(y_train,y_traindf.Proba>i).round(2))"
   ]
  },
  {
   "cell_type": "code",
   "execution_count": 42,
   "id": "da604ec8",
   "metadata": {},
   "outputs": [
    {
     "name": "stdout",
     "output_type": "stream",
     "text": [
      "threshold:  0.0 - precision 0.2\n",
      "threshold:  0.1 - precision 0.27\n",
      "threshold:  0.2 - precision 0.37\n",
      "threshold:  0.3 - precision 0.47\n",
      "threshold:  0.4 - precision 0.54\n",
      "threshold:  0.5 - precision 0.59\n",
      "threshold:  0.6 - precision 0.69\n",
      "threshold:  0.7 - precision 0.72\n",
      "threshold:  0.8 - precision 0.56\n",
      "threshold:  0.9 - precision 0.5\n"
     ]
    }
   ],
   "source": [
    "# precision\n",
    "for i in np.arange(0,1,0.1):\n",
    "    print('threshold: ', i.round(1), '- precision', precision_score(y_train,y_traindf.Proba> i).round(2))"
   ]
  },
  {
   "cell_type": "code",
   "execution_count": 43,
   "id": "27cc3df2",
   "metadata": {},
   "outputs": [
    {
     "name": "stdout",
     "output_type": "stream",
     "text": [
      "threshold:  0.0 - recall 1.0\n",
      "threshold:  0.1 - recall 0.9\n",
      "threshold:  0.2 - recall 0.7\n",
      "threshold:  0.3 - recall 0.5\n",
      "threshold:  0.4 - recall 0.34\n",
      "threshold:  0.5 - recall 0.21\n",
      "threshold:  0.6 - recall 0.12\n",
      "threshold:  0.7 - recall 0.05\n",
      "threshold:  0.8 - recall 0.01\n",
      "threshold:  0.9 - recall 0.0\n"
     ]
    }
   ],
   "source": [
    "# recall\n",
    "for i in np.arange(0,1,0.1):\n",
    "    print('threshold: ', i.round(1), '- recall', recall_score(y_train,y_traindf.Proba> i).round(2))\n",
    "# increase threshold decrease recall"
   ]
  },
  {
   "cell_type": "code",
   "execution_count": 44,
   "id": "957ac24e",
   "metadata": {},
   "outputs": [
    {
     "name": "stdout",
     "output_type": "stream",
     "text": [
      "threshold:  0.0 - AUC 0.5\n",
      "threshold:  0.1 - AUC 0.64\n",
      "threshold:  0.2 - AUC 0.7\n",
      "threshold:  0.3 - AUC 0.68\n",
      "threshold:  0.4 - AUC 0.63\n",
      "threshold:  0.5 - AUC 0.59\n",
      "threshold:  0.6 - AUC 0.55\n",
      "threshold:  0.7 - AUC 0.52\n",
      "threshold:  0.8 - AUC 0.5\n",
      "threshold:  0.9 - AUC 0.5\n"
     ]
    }
   ],
   "source": [
    "# AUC\n",
    "for i in np.arange(0,1,0.1):\n",
    "    print('threshold: ', i.round(1), '- AUC', roc_auc_score(y_train,y_traindf.Proba> i).round(2))"
   ]
  },
  {
   "cell_type": "markdown",
   "id": "b561d69a",
   "metadata": {},
   "source": [
    "# Logistic Regression with Resampling"
   ]
  },
  {
   "cell_type": "code",
   "execution_count": 45,
   "id": "8436e2aa",
   "metadata": {},
   "outputs": [],
   "source": [
    "x_new,y_new= SMOTE(random_state=0).fit_resample(x_train,y_train)"
   ]
  },
  {
   "cell_type": "code",
   "execution_count": 46,
   "id": "3c11ea81",
   "metadata": {},
   "outputs": [
    {
     "data": {
      "text/plain": [
       "0    6368\n",
       "1    6368\n",
       "Name: Exited, dtype: int64"
      ]
     },
     "execution_count": 46,
     "metadata": {},
     "output_type": "execute_result"
    }
   ],
   "source": [
    "y_new.value_counts()"
   ]
  },
  {
   "cell_type": "code",
   "execution_count": 47,
   "id": "10d33bb1",
   "metadata": {},
   "outputs": [
    {
     "data": {
      "text/plain": [
       "LogisticRegression()"
      ]
     },
     "execution_count": 47,
     "metadata": {},
     "output_type": "execute_result"
    }
   ],
   "source": [
    "model_R= LogisticRegression()\n",
    "model_R.fit(x_new,y_new)"
   ]
  },
  {
   "cell_type": "code",
   "execution_count": 48,
   "id": "faa4953d",
   "metadata": {},
   "outputs": [
    {
     "data": {
      "text/plain": [
       "0.7151381909547738"
      ]
     },
     "execution_count": 48,
     "metadata": {},
     "output_type": "execute_result"
    }
   ],
   "source": [
    "model_R.score(x_new,y_new)"
   ]
  },
  {
   "cell_type": "code",
   "execution_count": 49,
   "id": "73a1b03d",
   "metadata": {},
   "outputs": [
    {
     "name": "stdout",
     "output_type": "stream",
     "text": [
      "              precision    recall  f1-score   support\n",
      "\n",
      "    negative       0.71      0.72      0.72      6368\n",
      "    positive       0.72      0.71      0.71      6368\n",
      "\n",
      "    accuracy                           0.72     12736\n",
      "   macro avg       0.72      0.72      0.72     12736\n",
      "weighted avg       0.72      0.72      0.72     12736\n",
      "\n"
     ]
    }
   ],
   "source": [
    "# train data\n",
    "print(classification_report(y_new,model_R.predict(x_new),target_names= ['negative','positive']))"
   ]
  },
  {
   "cell_type": "code",
   "execution_count": 50,
   "id": "ba5bc03f",
   "metadata": {},
   "outputs": [
    {
     "name": "stdout",
     "output_type": "stream",
     "text": [
      "              precision    recall  f1-score   support\n",
      "\n",
      "    negative       0.91      0.70      0.79      1595\n",
      "    positive       0.38      0.72      0.50       405\n",
      "\n",
      "    accuracy                           0.70      2000\n",
      "   macro avg       0.64      0.71      0.64      2000\n",
      "weighted avg       0.80      0.70      0.73      2000\n",
      "\n"
     ]
    }
   ],
   "source": [
    "# test data\n",
    "print(classification_report(y_test,model_R.predict(x_test),target_names= ['negative','positive']))"
   ]
  },
  {
   "cell_type": "code",
   "execution_count": null,
   "id": "1cb91a26",
   "metadata": {},
   "outputs": [],
   "source": []
  }
 ],
 "metadata": {
  "kernelspec": {
   "display_name": "Python 3",
   "language": "python",
   "name": "python3"
  },
  "language_info": {
   "codemirror_mode": {
    "name": "ipython",
    "version": 3
   },
   "file_extension": ".py",
   "mimetype": "text/x-python",
   "name": "python",
   "nbconvert_exporter": "python",
   "pygments_lexer": "ipython3",
   "version": "3.8.6"
  }
 },
 "nbformat": 4,
 "nbformat_minor": 5
}
