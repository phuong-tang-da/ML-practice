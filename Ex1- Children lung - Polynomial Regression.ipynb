{
 "cells": [
  {
   "cell_type": "code",
   "execution_count": 1,
   "id": "ac44bf8f",
   "metadata": {
    "scrolled": true
   },
   "outputs": [],
   "source": [
    "import pandas as pd\n",
    "import seaborn as sns #regplot, kdeplot, histplot\n",
    "import matplotlib.pyplot as plt\n",
    "\n",
    "from sklearn.model_selection import train_test_split # train & test\n",
    "from sklearn.linear_model import LinearRegression # train Linear Regression model\n",
    "from sklearn.preprocessing import PolynomialFeatures # create Polynomial features\n",
    "from sklearn.metrics import mean_squared_error, mean_absolute_error # metric\n",
    "\n",
    "\n",
    "from scipy.stats.stats import pearsonr\n",
    "\n",
    "import statsmodels.api as sm # get summary of result"
   ]
  },
  {
   "cell_type": "code",
   "execution_count": 2,
   "id": "41284976",
   "metadata": {
    "scrolled": true
   },
   "outputs": [],
   "source": [
    "df=pd.read_csv(\"children_lung.txt\",sep=\" \")"
   ]
  },
  {
   "cell_type": "code",
   "execution_count": 3,
   "id": "c66a780d",
   "metadata": {
    "scrolled": true
   },
   "outputs": [
    {
     "data": {
      "text/html": [
       "<div>\n",
       "<style scoped>\n",
       "    .dataframe tbody tr th:only-of-type {\n",
       "        vertical-align: middle;\n",
       "    }\n",
       "\n",
       "    .dataframe tbody tr th {\n",
       "        vertical-align: top;\n",
       "    }\n",
       "\n",
       "    .dataframe thead th {\n",
       "        text-align: right;\n",
       "    }\n",
       "</style>\n",
       "<table border=\"1\" class=\"dataframe\">\n",
       "  <thead>\n",
       "    <tr style=\"text-align: right;\">\n",
       "      <th></th>\n",
       "      <th>Unnamed: 0</th>\n",
       "      <th>Unnamed: 1</th>\n",
       "      <th>age</th>\n",
       "      <th>FEV</th>\n",
       "      <th>ht</th>\n",
       "      <th>Unnamed: 5</th>\n",
       "      <th>Unnamed: 6</th>\n",
       "      <th>sex</th>\n",
       "      <th>Unnamed: 8</th>\n",
       "      <th>Unnamed: 9</th>\n",
       "      <th>Unnamed: 10</th>\n",
       "      <th>Unnamed: 11</th>\n",
       "      <th>smoke</th>\n",
       "      <th>Unnamed: 13</th>\n",
       "      <th>Unnamed: 14</th>\n",
       "    </tr>\n",
       "  </thead>\n",
       "  <tbody>\n",
       "    <tr>\n",
       "      <th>0</th>\n",
       "      <td>NaN</td>\n",
       "      <td>NaN</td>\n",
       "      <td>9.0</td>\n",
       "      <td>1.708</td>\n",
       "      <td>57.0</td>\n",
       "      <td>NaN</td>\n",
       "      <td>NaN</td>\n",
       "      <td>0.0</td>\n",
       "      <td>NaN</td>\n",
       "      <td>NaN</td>\n",
       "      <td>NaN</td>\n",
       "      <td>NaN</td>\n",
       "      <td>0.0</td>\n",
       "      <td>NaN</td>\n",
       "      <td>NaN</td>\n",
       "    </tr>\n",
       "    <tr>\n",
       "      <th>1</th>\n",
       "      <td>NaN</td>\n",
       "      <td>NaN</td>\n",
       "      <td>8.0</td>\n",
       "      <td>1.724</td>\n",
       "      <td>67.5</td>\n",
       "      <td>NaN</td>\n",
       "      <td>NaN</td>\n",
       "      <td>0.0</td>\n",
       "      <td>NaN</td>\n",
       "      <td>NaN</td>\n",
       "      <td>NaN</td>\n",
       "      <td>NaN</td>\n",
       "      <td>0.0</td>\n",
       "      <td>NaN</td>\n",
       "      <td>NaN</td>\n",
       "    </tr>\n",
       "    <tr>\n",
       "      <th>2</th>\n",
       "      <td>NaN</td>\n",
       "      <td>NaN</td>\n",
       "      <td>7.0</td>\n",
       "      <td>1.720</td>\n",
       "      <td>54.5</td>\n",
       "      <td>NaN</td>\n",
       "      <td>NaN</td>\n",
       "      <td>0.0</td>\n",
       "      <td>NaN</td>\n",
       "      <td>NaN</td>\n",
       "      <td>NaN</td>\n",
       "      <td>NaN</td>\n",
       "      <td>0.0</td>\n",
       "      <td>NaN</td>\n",
       "      <td>NaN</td>\n",
       "    </tr>\n",
       "    <tr>\n",
       "      <th>3</th>\n",
       "      <td>NaN</td>\n",
       "      <td>NaN</td>\n",
       "      <td>9.0</td>\n",
       "      <td>1.558</td>\n",
       "      <td>53.0</td>\n",
       "      <td>NaN</td>\n",
       "      <td>NaN</td>\n",
       "      <td>1.0</td>\n",
       "      <td>NaN</td>\n",
       "      <td>NaN</td>\n",
       "      <td>NaN</td>\n",
       "      <td>NaN</td>\n",
       "      <td>0.0</td>\n",
       "      <td>NaN</td>\n",
       "      <td>NaN</td>\n",
       "    </tr>\n",
       "    <tr>\n",
       "      <th>4</th>\n",
       "      <td>NaN</td>\n",
       "      <td>NaN</td>\n",
       "      <td>9.0</td>\n",
       "      <td>1.895</td>\n",
       "      <td>57.0</td>\n",
       "      <td>NaN</td>\n",
       "      <td>NaN</td>\n",
       "      <td>1.0</td>\n",
       "      <td>NaN</td>\n",
       "      <td>NaN</td>\n",
       "      <td>NaN</td>\n",
       "      <td>NaN</td>\n",
       "      <td>0.0</td>\n",
       "      <td>NaN</td>\n",
       "      <td>NaN</td>\n",
       "    </tr>\n",
       "  </tbody>\n",
       "</table>\n",
       "</div>"
      ],
      "text/plain": [
       "   Unnamed: 0  Unnamed: 1  age    FEV    ht  Unnamed: 5  Unnamed: 6  sex  \\\n",
       "0         NaN         NaN  9.0  1.708  57.0         NaN         NaN  0.0   \n",
       "1         NaN         NaN  8.0  1.724  67.5         NaN         NaN  0.0   \n",
       "2         NaN         NaN  7.0  1.720  54.5         NaN         NaN  0.0   \n",
       "3         NaN         NaN  9.0  1.558  53.0         NaN         NaN  1.0   \n",
       "4         NaN         NaN  9.0  1.895  57.0         NaN         NaN  1.0   \n",
       "\n",
       "   Unnamed: 8  Unnamed: 9  Unnamed: 10  Unnamed: 11  smoke  Unnamed: 13  \\\n",
       "0         NaN         NaN          NaN          NaN    0.0          NaN   \n",
       "1         NaN         NaN          NaN          NaN    0.0          NaN   \n",
       "2         NaN         NaN          NaN          NaN    0.0          NaN   \n",
       "3         NaN         NaN          NaN          NaN    0.0          NaN   \n",
       "4         NaN         NaN          NaN          NaN    0.0          NaN   \n",
       "\n",
       "   Unnamed: 14  \n",
       "0          NaN  \n",
       "1          NaN  \n",
       "2          NaN  \n",
       "3          NaN  \n",
       "4          NaN  "
      ]
     },
     "execution_count": 3,
     "metadata": {},
     "output_type": "execute_result"
    }
   ],
   "source": [
    "df.head()"
   ]
  },
  {
   "cell_type": "code",
   "execution_count": 4,
   "id": "1dedcd95",
   "metadata": {},
   "outputs": [],
   "source": [
    "df= df[['age','FEV','ht','sex','smoke']]"
   ]
  },
  {
   "cell_type": "code",
   "execution_count": 5,
   "id": "12e641a3",
   "metadata": {},
   "outputs": [
    {
     "data": {
      "text/plain": [
       "<AxesSubplot:xlabel='age', ylabel='FEV'>"
      ]
     },
     "execution_count": 5,
     "metadata": {},
     "output_type": "execute_result"
    },
    {
     "data": {
      "image/png": "[encoded data removed]",
      "text/plain": [
       "<Figure size 432x288 with 1 Axes>"
      ]
     },
     "metadata": {
      "needs_background": "light"
     },
     "output_type": "display_data"
    }
   ],
   "source": [
    "sns.regplot(data=df, x= 'age',y='FEV', fit_reg=False)"
   ]
  },
  {
   "cell_type": "code",
   "execution_count": 6,
   "id": "fcb64ea2",
   "metadata": {},
   "outputs": [
    {
     "data": {
      "text/plain": [
       "<AxesSubplot:xlabel='FEV', ylabel='Count'>"
      ]
     },
     "execution_count": 6,
     "metadata": {},
     "output_type": "execute_result"
    },
    {
     "data": {
      "image/png": "[encoded data removed]",
      "text/plain": [
       "<Figure size 432x288 with 1 Axes>"
      ]
     },
     "metadata": {
      "needs_background": "light"
     },
     "output_type": "display_data"
    }
   ],
   "source": [
    "sns.histplot(df.FEV)"
   ]
  },
  {
   "cell_type": "code",
   "execution_count": 7,
   "id": "36bb72c1",
   "metadata": {},
   "outputs": [],
   "source": [
    "df_fevlower= df[df.FEV<10]\n",
    "df_fevupper= df[df.FEV>=10]"
   ]
  },
  {
   "cell_type": "code",
   "execution_count": 8,
   "id": "078f83b8",
   "metadata": {},
   "outputs": [
    {
     "data": {
      "text/plain": [
       "<AxesSubplot:xlabel='age', ylabel='FEV'>"
      ]
     },
     "execution_count": 8,
     "metadata": {},
     "output_type": "execute_result"
    },
    {
     "data": {
      "image/png": "[encoded data removed]",
      "text/plain": [
       "<Figure size 432x288 with 1 Axes>"
      ]
     },
     "metadata": {
      "needs_background": "light"
     },
     "output_type": "display_data"
    }
   ],
   "source": [
    "sns.regplot(data=df_fevlower, x= 'age',y='FEV', fit_reg=False)"
   ]
  },
  {
   "cell_type": "markdown",
   "id": "a5cf1640",
   "metadata": {},
   "source": [
    "# Simple Linear Regression "
   ]
  },
  {
   "cell_type": "code",
   "execution_count": 9,
   "id": "b3fc6b2f",
   "metadata": {},
   "outputs": [
    {
     "data": {
      "text/html": [
       "<div>\n",
       "<style scoped>\n",
       "    .dataframe tbody tr th:only-of-type {\n",
       "        vertical-align: middle;\n",
       "    }\n",
       "\n",
       "    .dataframe tbody tr th {\n",
       "        vertical-align: top;\n",
       "    }\n",
       "\n",
       "    .dataframe thead th {\n",
       "        text-align: right;\n",
       "    }\n",
       "</style>\n",
       "<table border=\"1\" class=\"dataframe\">\n",
       "  <thead>\n",
       "    <tr style=\"text-align: right;\">\n",
       "      <th></th>\n",
       "      <th>age</th>\n",
       "      <th>FEV</th>\n",
       "      <th>ht</th>\n",
       "      <th>sex</th>\n",
       "      <th>smoke</th>\n",
       "    </tr>\n",
       "  </thead>\n",
       "  <tbody>\n",
       "    <tr>\n",
       "      <th>309</th>\n",
       "      <td>2.884</td>\n",
       "      <td>69.0</td>\n",
       "      <td>NaN</td>\n",
       "      <td>NaN</td>\n",
       "      <td>NaN</td>\n",
       "    </tr>\n",
       "    <tr>\n",
       "      <th>310</th>\n",
       "      <td>2.328</td>\n",
       "      <td>64.0</td>\n",
       "      <td>NaN</td>\n",
       "      <td>NaN</td>\n",
       "      <td>NaN</td>\n",
       "    </tr>\n",
       "    <tr>\n",
       "      <th>311</th>\n",
       "      <td>3.381</td>\n",
       "      <td>63.0</td>\n",
       "      <td>NaN</td>\n",
       "      <td>NaN</td>\n",
       "      <td>NaN</td>\n",
       "    </tr>\n",
       "    <tr>\n",
       "      <th>312</th>\n",
       "      <td>2.170</td>\n",
       "      <td>58.0</td>\n",
       "      <td>NaN</td>\n",
       "      <td>NaN</td>\n",
       "      <td>NaN</td>\n",
       "    </tr>\n",
       "    <tr>\n",
       "      <th>313</th>\n",
       "      <td>3.470</td>\n",
       "      <td>66.5</td>\n",
       "      <td>NaN</td>\n",
       "      <td>NaN</td>\n",
       "      <td>NaN</td>\n",
       "    </tr>\n",
       "  </tbody>\n",
       "</table>\n",
       "</div>"
      ],
      "text/plain": [
       "       age   FEV  ht  sex  smoke\n",
       "309  2.884  69.0 NaN  NaN    NaN\n",
       "310  2.328  64.0 NaN  NaN    NaN\n",
       "311  3.381  63.0 NaN  NaN    NaN\n",
       "312  2.170  58.0 NaN  NaN    NaN\n",
       "313  3.470  66.5 NaN  NaN    NaN"
      ]
     },
     "execution_count": 9,
     "metadata": {},
     "output_type": "execute_result"
    }
   ],
   "source": [
    "df_fevupper.head()"
   ]
  },
  {
   "cell_type": "code",
   "execution_count": 10,
   "id": "619ad4ec",
   "metadata": {},
   "outputs": [
    {
     "name": "stdout",
     "output_type": "stream",
     "text": [
      "<class 'pandas.core.frame.DataFrame'>\n",
      "Int64Index: 345 entries, 309 to 653\n",
      "Data columns (total 5 columns):\n",
      " #   Column  Non-Null Count  Dtype  \n",
      "---  ------  --------------  -----  \n",
      " 0   age     345 non-null    float64\n",
      " 1   FEV     345 non-null    float64\n",
      " 2   ht      0 non-null      float64\n",
      " 3   sex     0 non-null      float64\n",
      " 4   smoke   0 non-null      float64\n",
      "dtypes: float64(5)\n",
      "memory usage: 16.2 KB\n"
     ]
    }
   ],
   "source": [
    "df_fevupper.info()"
   ]
  },
  {
   "cell_type": "markdown",
   "id": "52f4db4a",
   "metadata": {},
   "source": [
    "**1.choose features**"
   ]
  },
  {
   "cell_type": "code",
   "execution_count": 11,
   "id": "8175a29b",
   "metadata": {},
   "outputs": [],
   "source": [
    "#1 choose features\n",
    "x_u= df_fevupper[['age']]\n",
    "y_u= df_fevupper['FEV']"
   ]
  },
  {
   "cell_type": "markdown",
   "id": "54546514",
   "metadata": {},
   "source": [
    "**2.split data**"
   ]
  },
  {
   "cell_type": "code",
   "execution_count": 12,
   "id": "1590c507",
   "metadata": {},
   "outputs": [],
   "source": [
    "#2 split data\n",
    "x_u_train, x_u_test, y_u_train, y_u_test= train_test_split(x_u,y_u,train_size=0.8, random_state=123)"
   ]
  },
  {
   "cell_type": "markdown",
   "id": "477a9df0",
   "metadata": {},
   "source": [
    "**3.train model**"
   ]
  },
  {
   "cell_type": "code",
   "execution_count": 13,
   "id": "0bd7827a",
   "metadata": {},
   "outputs": [
    {
     "data": {
      "text/plain": [
       "LinearRegression()"
      ]
     },
     "execution_count": 13,
     "metadata": {},
     "output_type": "execute_result"
    }
   ],
   "source": [
    "#3 train model\n",
    "lm=LinearRegression()\n",
    "lm.fit(x_u_train,y_u_train)"
   ]
  },
  {
   "cell_type": "code",
   "execution_count": 14,
   "id": "646547af",
   "metadata": {},
   "outputs": [
    {
     "data": {
      "text/plain": [
       "array([3.79635619])"
      ]
     },
     "execution_count": 14,
     "metadata": {},
     "output_type": "execute_result"
    }
   ],
   "source": [
    "lm.coef_"
   ]
  },
  {
   "cell_type": "code",
   "execution_count": 15,
   "id": "71c9cabf",
   "metadata": {},
   "outputs": [
    {
     "data": {
      "text/plain": [
       "52.8380373019821"
      ]
     },
     "execution_count": 15,
     "metadata": {},
     "output_type": "execute_result"
    }
   ],
   "source": [
    "lm.intercept_"
   ]
  },
  {
   "cell_type": "code",
   "execution_count": 16,
   "id": "87c1ee1d",
   "metadata": {},
   "outputs": [
    {
     "data": {
      "text/plain": [
       "1"
      ]
     },
     "execution_count": 16,
     "metadata": {},
     "output_type": "execute_result"
    }
   ],
   "source": [
    "lm.n_features_in_"
   ]
  },
  {
   "cell_type": "markdown",
   "id": "46e7d58f",
   "metadata": {},
   "source": [
    "**4.Evaluate on train data**"
   ]
  },
  {
   "cell_type": "code",
   "execution_count": 17,
   "id": "db8c0aa2",
   "metadata": {},
   "outputs": [
    {
     "data": {
      "text/plain": [
       "(276,)"
      ]
     },
     "execution_count": 17,
     "metadata": {},
     "output_type": "execute_result"
    }
   ],
   "source": [
    "#4 evaluate on train data\n",
    "y_train_prediction= lm.predict(x_u_train)\n",
    "y_train_prediction.shape"
   ]
  },
  {
   "cell_type": "code",
   "execution_count": 18,
   "id": "87f665d1",
   "metadata": {},
   "outputs": [
    {
     "data": {
      "text/plain": [
       "0.5718713701588741"
      ]
     },
     "execution_count": 18,
     "metadata": {},
     "output_type": "execute_result"
    }
   ],
   "source": [
    "# Rsquare\n",
    "lm.score(x_u_train, y_u_train)"
   ]
  },
  {
   "cell_type": "code",
   "execution_count": 19,
   "id": "33c12dd7",
   "metadata": {},
   "outputs": [
    {
     "data": {
      "text/plain": [
       "5.99669159650868"
      ]
     },
     "execution_count": 19,
     "metadata": {},
     "output_type": "execute_result"
    }
   ],
   "source": [
    "# MSE\n",
    "mean_squared_error(y_u_train,y_train_prediction)"
   ]
  },
  {
   "cell_type": "code",
   "execution_count": 20,
   "id": "4def4b06",
   "metadata": {},
   "outputs": [
    {
     "name": "stderr",
     "output_type": "stream",
     "text": [
      "C:\\Users\\tangh\\AppData\\Roaming\\Python\\Python38\\site-packages\\statsmodels\\tsa\\tsatools.py:142: FutureWarning: In a future version of pandas all arguments of concat except for the argument 'objs' will be keyword-only\n",
      "  x = pd.concat(x[::order], 1)\n"
     ]
    },
    {
     "data": {
      "text/html": [
       "<table class=\"simpletable\">\n",
       "<caption>OLS Regression Results</caption>\n",
       "<tr>\n",
       "  <th>Dep. Variable:</th>           <td>FEV</td>       <th>  R-squared:         </th> <td>   0.572</td>\n",
       "</tr>\n",
       "<tr>\n",
       "  <th>Model:</th>                   <td>OLS</td>       <th>  Adj. R-squared:    </th> <td>   0.570</td>\n",
       "</tr>\n",
       "<tr>\n",
       "  <th>Method:</th>             <td>Least Squares</td>  <th>  F-statistic:       </th> <td>   366.0</td>\n",
       "</tr>\n",
       "<tr>\n",
       "  <th>Date:</th>             <td>Sat, 01 Jan 2022</td> <th>  Prob (F-statistic):</th> <td>2.13e-52</td>\n",
       "</tr>\n",
       "<tr>\n",
       "  <th>Time:</th>                 <td>18:18:54</td>     <th>  Log-Likelihood:    </th> <td> -638.81</td>\n",
       "</tr>\n",
       "<tr>\n",
       "  <th>No. Observations:</th>      <td>   276</td>      <th>  AIC:               </th> <td>   1282.</td>\n",
       "</tr>\n",
       "<tr>\n",
       "  <th>Df Residuals:</th>          <td>   274</td>      <th>  BIC:               </th> <td>   1289.</td>\n",
       "</tr>\n",
       "<tr>\n",
       "  <th>Df Model:</th>              <td>     1</td>      <th>                     </th>     <td> </td>   \n",
       "</tr>\n",
       "<tr>\n",
       "  <th>Covariance Type:</th>      <td>nonrobust</td>    <th>                     </th>     <td> </td>   \n",
       "</tr>\n",
       "</table>\n",
       "<table class=\"simpletable\">\n",
       "<tr>\n",
       "    <td></td>       <th>coef</th>     <th>std err</th>      <th>t</th>      <th>P>|t|</th>  <th>[0.025</th>    <th>0.975]</th>  \n",
       "</tr>\n",
       "<tr>\n",
       "  <th>const</th> <td>   52.8380</td> <td>    0.645</td> <td>   81.973</td> <td> 0.000</td> <td>   51.569</td> <td>   54.107</td>\n",
       "</tr>\n",
       "<tr>\n",
       "  <th>age</th>   <td>    3.7964</td> <td>    0.198</td> <td>   19.131</td> <td> 0.000</td> <td>    3.406</td> <td>    4.187</td>\n",
       "</tr>\n",
       "</table>\n",
       "<table class=\"simpletable\">\n",
       "<tr>\n",
       "  <th>Omnibus:</th>       <td> 8.530</td> <th>  Durbin-Watson:     </th> <td>   2.241</td>\n",
       "</tr>\n",
       "<tr>\n",
       "  <th>Prob(Omnibus):</th> <td> 0.014</td> <th>  Jarque-Bera (JB):  </th> <td>   8.506</td>\n",
       "</tr>\n",
       "<tr>\n",
       "  <th>Skew:</th>          <td> 0.379</td> <th>  Prob(JB):          </th> <td>  0.0142</td>\n",
       "</tr>\n",
       "<tr>\n",
       "  <th>Kurtosis:</th>      <td> 3.406</td> <th>  Cond. No.          </th> <td>    15.4</td>\n",
       "</tr>\n",
       "</table><br/><br/>Notes:<br/>[1] Standard Errors assume that the covariance matrix of the errors is correctly specified."
      ],
      "text/plain": [
       "<class 'statsmodels.iolib.summary.Summary'>\n",
       "\"\"\"\n",
       "                            OLS Regression Results                            \n",
       "==============================================================================\n",
       "Dep. Variable:                    FEV   R-squared:                       0.572\n",
       "Model:                            OLS   Adj. R-squared:                  0.570\n",
       "Method:                 Least Squares   F-statistic:                     366.0\n",
       "Date:                Sat, 01 Jan 2022   Prob (F-statistic):           2.13e-52\n",
       "Time:                        18:18:54   Log-Likelihood:                -638.81\n",
       "No. Observations:                 276   AIC:                             1282.\n",
       "Df Residuals:                     274   BIC:                             1289.\n",
       "Df Model:                           1                                         \n",
       "Covariance Type:            nonrobust                                         \n",
       "==============================================================================\n",
       "                 coef    std err          t      P>|t|      [0.025      0.975]\n",
       "------------------------------------------------------------------------------\n",
       "const         52.8380      0.645     81.973      0.000      51.569      54.107\n",
       "age            3.7964      0.198     19.131      0.000       3.406       4.187\n",
       "==============================================================================\n",
       "Omnibus:                        8.530   Durbin-Watson:                   2.241\n",
       "Prob(Omnibus):                  0.014   Jarque-Bera (JB):                8.506\n",
       "Skew:                           0.379   Prob(JB):                       0.0142\n",
       "Kurtosis:                       3.406   Cond. No.                         15.4\n",
       "==============================================================================\n",
       "\n",
       "Notes:\n",
       "[1] Standard Errors assume that the covariance matrix of the errors is correctly specified.\n",
       "\"\"\""
      ]
     },
     "execution_count": 20,
     "metadata": {},
     "output_type": "execute_result"
    }
   ],
   "source": [
    "# summary of result\n",
    "x1_u_train= sm.add_constant(x_u_train)\n",
    "model=sm.OLS(y_u_train, x1_u_train).fit()\n",
    "model.summary()"
   ]
  },
  {
   "cell_type": "markdown",
   "id": "603b6f66",
   "metadata": {},
   "source": [
    "**5.Visualize**"
   ]
  },
  {
   "cell_type": "code",
   "execution_count": 21,
   "id": "a0d86c68",
   "metadata": {},
   "outputs": [
    {
     "data": {
      "text/plain": [
       "<matplotlib.legend.Legend at 0x22c97e49970>"
      ]
     },
     "execution_count": 21,
     "metadata": {},
     "output_type": "execute_result"
    },
    {
     "data": {
      "image/png": "[encoded data removed]",
      "text/plain": [
       "<Figure size 432x288 with 1 Axes>"
      ]
     },
     "metadata": {
      "needs_background": "light"
     },
     "output_type": "display_data"
    }
   ],
   "source": [
    "sns.kdeplot(x=y_u_train,label= \"actual value\",color='r')\n",
    "sns.kdeplot(x=y_train_prediction,label= \"predicted value\")\n",
    "plt.legend()"
   ]
  },
  {
   "cell_type": "code",
   "execution_count": 22,
   "id": "820f8677",
   "metadata": {},
   "outputs": [
    {
     "data": {
      "text/plain": [
       "<matplotlib.legend.Legend at 0x22c97eba160>"
      ]
     },
     "execution_count": 22,
     "metadata": {},
     "output_type": "execute_result"
    },
    {
     "data": {
      "image/png": "[encoded data removed]",
      "text/plain": [
       "<Figure size 432x288 with 1 Axes>"
      ]
     },
     "metadata": {
      "needs_background": "light"
     },
     "output_type": "display_data"
    }
   ],
   "source": [
    "sns.histplot(x=y_u_train,label= \"actual value\",color='r',fill=True)\n",
    "sns.histplot(x=y_train_prediction,label= \"predicted value\",fill=False)\n",
    "plt.legend()"
   ]
  },
  {
   "cell_type": "markdown",
   "id": "2c1b23d4",
   "metadata": {},
   "source": [
    "# Multiple Linear Regression"
   ]
  },
  {
   "cell_type": "code",
   "execution_count": 23,
   "id": "2eca8259",
   "metadata": {},
   "outputs": [
    {
     "data": {
      "text/html": [
       "<div>\n",
       "<style scoped>\n",
       "    .dataframe tbody tr th:only-of-type {\n",
       "        vertical-align: middle;\n",
       "    }\n",
       "\n",
       "    .dataframe tbody tr th {\n",
       "        vertical-align: top;\n",
       "    }\n",
       "\n",
       "    .dataframe thead th {\n",
       "        text-align: right;\n",
       "    }\n",
       "</style>\n",
       "<table border=\"1\" class=\"dataframe\">\n",
       "  <thead>\n",
       "    <tr style=\"text-align: right;\">\n",
       "      <th></th>\n",
       "      <th>age</th>\n",
       "      <th>FEV</th>\n",
       "      <th>ht</th>\n",
       "      <th>sex</th>\n",
       "      <th>smoke</th>\n",
       "    </tr>\n",
       "  </thead>\n",
       "  <tbody>\n",
       "    <tr>\n",
       "      <th>0</th>\n",
       "      <td>9.0</td>\n",
       "      <td>1.708</td>\n",
       "      <td>57.0</td>\n",
       "      <td>0.0</td>\n",
       "      <td>0.0</td>\n",
       "    </tr>\n",
       "    <tr>\n",
       "      <th>1</th>\n",
       "      <td>8.0</td>\n",
       "      <td>1.724</td>\n",
       "      <td>67.5</td>\n",
       "      <td>0.0</td>\n",
       "      <td>0.0</td>\n",
       "    </tr>\n",
       "    <tr>\n",
       "      <th>2</th>\n",
       "      <td>7.0</td>\n",
       "      <td>1.720</td>\n",
       "      <td>54.5</td>\n",
       "      <td>0.0</td>\n",
       "      <td>0.0</td>\n",
       "    </tr>\n",
       "    <tr>\n",
       "      <th>3</th>\n",
       "      <td>9.0</td>\n",
       "      <td>1.558</td>\n",
       "      <td>53.0</td>\n",
       "      <td>1.0</td>\n",
       "      <td>0.0</td>\n",
       "    </tr>\n",
       "    <tr>\n",
       "      <th>4</th>\n",
       "      <td>9.0</td>\n",
       "      <td>1.895</td>\n",
       "      <td>57.0</td>\n",
       "      <td>1.0</td>\n",
       "      <td>0.0</td>\n",
       "    </tr>\n",
       "  </tbody>\n",
       "</table>\n",
       "</div>"
      ],
      "text/plain": [
       "   age    FEV    ht  sex  smoke\n",
       "0  9.0  1.708  57.0  0.0    0.0\n",
       "1  8.0  1.724  67.5  0.0    0.0\n",
       "2  7.0  1.720  54.5  0.0    0.0\n",
       "3  9.0  1.558  53.0  1.0    0.0\n",
       "4  9.0  1.895  57.0  1.0    0.0"
      ]
     },
     "execution_count": 23,
     "metadata": {},
     "output_type": "execute_result"
    }
   ],
   "source": [
    "df_fevlower.head()"
   ]
  },
  {
   "cell_type": "code",
   "execution_count": 24,
   "id": "555f0f13",
   "metadata": {},
   "outputs": [],
   "source": [
    "#1 choose features"
   ]
  },
  {
   "cell_type": "code",
   "execution_count": 25,
   "id": "aa2bea59",
   "metadata": {},
   "outputs": [],
   "source": [
    "xl= df_fevlower[['age','ht','sex']]\n",
    "yl=df_fevlower['FEV']"
   ]
  },
  {
   "cell_type": "code",
   "execution_count": 26,
   "id": "0faba952",
   "metadata": {},
   "outputs": [],
   "source": [
    "#2 split data\n",
    "xl_train,xl_test,yl_train,yl_test= train_test_split(xl,yl,train_size= 0.8,random_state= 123)"
   ]
  },
  {
   "cell_type": "code",
   "execution_count": 27,
   "id": "89156239",
   "metadata": {},
   "outputs": [],
   "source": [
    "#3 train model\n",
    "lm1= LinearRegression()"
   ]
  },
  {
   "cell_type": "code",
   "execution_count": 29,
   "id": "5018bc80",
   "metadata": {},
   "outputs": [
    {
     "data": {
      "text/plain": [
       "LinearRegression()"
      ]
     },
     "execution_count": 29,
     "metadata": {},
     "output_type": "execute_result"
    }
   ],
   "source": [
    "lm1.fit(xl_train,yl_train)"
   ]
  },
  {
   "cell_type": "code",
   "execution_count": 30,
   "id": "d65ab38f",
   "metadata": {},
   "outputs": [
    {
     "data": {
      "text/plain": [
       "3"
      ]
     },
     "execution_count": 30,
     "metadata": {},
     "output_type": "execute_result"
    }
   ],
   "source": [
    "lm1.n_features_in_"
   ]
  },
  {
   "cell_type": "code",
   "execution_count": 31,
   "id": "cd6543e4",
   "metadata": {},
   "outputs": [
    {
     "data": {
      "text/plain": [
       "-3.386930569158902"
      ]
     },
     "execution_count": 31,
     "metadata": {},
     "output_type": "execute_result"
    }
   ],
   "source": [
    "lm1.intercept_"
   ]
  },
  {
   "cell_type": "code",
   "execution_count": 32,
   "id": "7c467e38",
   "metadata": {},
   "outputs": [
    {
     "data": {
      "text/plain": [
       "array([0.0071615 , 0.09338109, 0.0955592 ])"
      ]
     },
     "execution_count": 32,
     "metadata": {},
     "output_type": "execute_result"
    }
   ],
   "source": [
    "lm1.coef_"
   ]
  },
  {
   "cell_type": "code",
   "execution_count": 33,
   "id": "913b37ed",
   "metadata": {},
   "outputs": [
    {
     "data": {
      "text/plain": [
       "0.669259486930049"
      ]
     },
     "execution_count": 33,
     "metadata": {},
     "output_type": "execute_result"
    }
   ],
   "source": [
    "#4 evaluate model on train data\n",
    "#rsquared\n",
    "lm1.score(xl_train,yl_train)"
   ]
  },
  {
   "cell_type": "code",
   "execution_count": 34,
   "id": "4e85fbf3",
   "metadata": {},
   "outputs": [
    {
     "data": {
      "text/plain": [
       "0.08701766471623566"
      ]
     },
     "execution_count": 34,
     "metadata": {},
     "output_type": "execute_result"
    }
   ],
   "source": [
    "mean_squared_error(yl_train,lm1.predict(xl_train))"
   ]
  },
  {
   "cell_type": "code",
   "execution_count": 35,
   "id": "67488096",
   "metadata": {},
   "outputs": [
    {
     "data": {
      "text/plain": [
       "0.7263007576807959"
      ]
     },
     "execution_count": 35,
     "metadata": {},
     "output_type": "execute_result"
    }
   ],
   "source": [
    "#5 evaluate model on test data\n",
    "#rsquared\n",
    "lm1.score(xl_test,yl_test)"
   ]
  },
  {
   "cell_type": "code",
   "execution_count": 36,
   "id": "ab066149",
   "metadata": {},
   "outputs": [
    {
     "data": {
      "text/plain": [
       "0.06893297444893698"
      ]
     },
     "execution_count": 36,
     "metadata": {},
     "output_type": "execute_result"
    }
   ],
   "source": [
    "mean_squared_error(yl_test,lm1.predict(xl_test))"
   ]
  },
  {
   "cell_type": "code",
   "execution_count": 37,
   "id": "87dfa1d2",
   "metadata": {},
   "outputs": [
    {
     "data": {
      "text/plain": [
       "<matplotlib.legend.Legend at 0x22c95d017c0>"
      ]
     },
     "execution_count": 37,
     "metadata": {},
     "output_type": "execute_result"
    },
    {
     "data": {
      "image/png": "[encoded data removed]",
      "text/plain": [
       "<Figure size 432x288 with 1 Axes>"
      ]
     },
     "metadata": {
      "needs_background": "light"
     },
     "output_type": "display_data"
    }
   ],
   "source": [
    "# visualize\n",
    "sns.kdeplot(x= yl_train,label=\"actual\")\n",
    "sns.kdeplot(x=lm1.predict(xl_train),label=\"predict\" )\n",
    "plt.legend()"
   ]
  },
  {
   "cell_type": "markdown",
   "id": "9a2243b8",
   "metadata": {},
   "source": [
    "# Polynominal Regression"
   ]
  },
  {
   "cell_type": "code",
   "execution_count": 38,
   "id": "bab48b65",
   "metadata": {},
   "outputs": [
    {
     "data": {
      "text/html": [
       "<div>\n",
       "<style scoped>\n",
       "    .dataframe tbody tr th:only-of-type {\n",
       "        vertical-align: middle;\n",
       "    }\n",
       "\n",
       "    .dataframe tbody tr th {\n",
       "        vertical-align: top;\n",
       "    }\n",
       "\n",
       "    .dataframe thead th {\n",
       "        text-align: right;\n",
       "    }\n",
       "</style>\n",
       "<table border=\"1\" class=\"dataframe\">\n",
       "  <thead>\n",
       "    <tr style=\"text-align: right;\">\n",
       "      <th></th>\n",
       "      <th>age</th>\n",
       "      <th>FEV</th>\n",
       "      <th>ht</th>\n",
       "      <th>sex</th>\n",
       "      <th>smoke</th>\n",
       "    </tr>\n",
       "  </thead>\n",
       "  <tbody>\n",
       "    <tr>\n",
       "      <th>309</th>\n",
       "      <td>2.884</td>\n",
       "      <td>69.0</td>\n",
       "      <td>NaN</td>\n",
       "      <td>NaN</td>\n",
       "      <td>NaN</td>\n",
       "    </tr>\n",
       "    <tr>\n",
       "      <th>310</th>\n",
       "      <td>2.328</td>\n",
       "      <td>64.0</td>\n",
       "      <td>NaN</td>\n",
       "      <td>NaN</td>\n",
       "      <td>NaN</td>\n",
       "    </tr>\n",
       "    <tr>\n",
       "      <th>311</th>\n",
       "      <td>3.381</td>\n",
       "      <td>63.0</td>\n",
       "      <td>NaN</td>\n",
       "      <td>NaN</td>\n",
       "      <td>NaN</td>\n",
       "    </tr>\n",
       "    <tr>\n",
       "      <th>312</th>\n",
       "      <td>2.170</td>\n",
       "      <td>58.0</td>\n",
       "      <td>NaN</td>\n",
       "      <td>NaN</td>\n",
       "      <td>NaN</td>\n",
       "    </tr>\n",
       "    <tr>\n",
       "      <th>313</th>\n",
       "      <td>3.470</td>\n",
       "      <td>66.5</td>\n",
       "      <td>NaN</td>\n",
       "      <td>NaN</td>\n",
       "      <td>NaN</td>\n",
       "    </tr>\n",
       "  </tbody>\n",
       "</table>\n",
       "</div>"
      ],
      "text/plain": [
       "       age   FEV  ht  sex  smoke\n",
       "309  2.884  69.0 NaN  NaN    NaN\n",
       "310  2.328  64.0 NaN  NaN    NaN\n",
       "311  3.381  63.0 NaN  NaN    NaN\n",
       "312  2.170  58.0 NaN  NaN    NaN\n",
       "313  3.470  66.5 NaN  NaN    NaN"
      ]
     },
     "execution_count": 38,
     "metadata": {},
     "output_type": "execute_result"
    }
   ],
   "source": [
    "df_fevupper.head()"
   ]
  },
  {
   "cell_type": "markdown",
   "id": "d654ccff",
   "metadata": {},
   "source": [
    "**1.Choose features & create new features**"
   ]
  },
  {
   "cell_type": "code",
   "execution_count": 39,
   "id": "eb766cbe",
   "metadata": {},
   "outputs": [],
   "source": [
    "x_u_p= df_fevupper[['age']]\n",
    "y_u_p= df_fevupper['FEV']"
   ]
  },
  {
   "cell_type": "code",
   "execution_count": 40,
   "id": "70add108",
   "metadata": {},
   "outputs": [
    {
     "data": {
      "text/plain": [
       "PolynomialFeatures()"
      ]
     },
     "execution_count": 40,
     "metadata": {},
     "output_type": "execute_result"
    }
   ],
   "source": [
    "pr=PolynomialFeatures(degree=2)\n",
    "pr"
   ]
  },
  {
   "cell_type": "code",
   "execution_count": 41,
   "id": "a2adc1fd",
   "metadata": {},
   "outputs": [
    {
     "data": {
      "text/plain": [
       "PolynomialFeatures()"
      ]
     },
     "execution_count": 41,
     "metadata": {},
     "output_type": "execute_result"
    }
   ],
   "source": [
    "pr.fit(x_u_p)"
   ]
  },
  {
   "cell_type": "code",
   "execution_count": 42,
   "id": "c0ddd47d",
   "metadata": {},
   "outputs": [],
   "source": [
    "x_u_p_new= pr.transform(x_u_p)"
   ]
  },
  {
   "cell_type": "code",
   "execution_count": 43,
   "id": "cbbc3ca1",
   "metadata": {},
   "outputs": [
    {
     "data": {
      "text/plain": [
       "array([1.      , 2.884   , 8.317456])"
      ]
     },
     "execution_count": 43,
     "metadata": {},
     "output_type": "execute_result"
    }
   ],
   "source": [
    "x_u_p_new[0] \n",
    "# create 1 more variable of x^2"
   ]
  },
  {
   "cell_type": "code",
   "execution_count": 44,
   "id": "e5376d5c",
   "metadata": {},
   "outputs": [
    {
     "data": {
      "text/plain": [
       "((345, 1), (345, 3))"
      ]
     },
     "execution_count": 44,
     "metadata": {},
     "output_type": "execute_result"
    }
   ],
   "source": [
    "x_u_p.shape, x_u_p_new.shape"
   ]
  },
  {
   "cell_type": "markdown",
   "id": "cb209d12",
   "metadata": {},
   "source": [
    "**2.split data**"
   ]
  },
  {
   "cell_type": "code",
   "execution_count": 45,
   "id": "3b5ccab6",
   "metadata": {},
   "outputs": [],
   "source": [
    "x_train, x_test, y_train, y_test= train_test_split(x_u_p_new,y_u_p,train_size=0.8, random_state=123)"
   ]
  },
  {
   "cell_type": "markdown",
   "id": "a012348c",
   "metadata": {},
   "source": [
    "**3.train model**"
   ]
  },
  {
   "cell_type": "code",
   "execution_count": 47,
   "id": "1b91be09",
   "metadata": {},
   "outputs": [
    {
     "data": {
      "text/plain": [
       "LinearRegression()"
      ]
     },
     "execution_count": 47,
     "metadata": {},
     "output_type": "execute_result"
    }
   ],
   "source": [
    "lm=LinearRegression()\n",
    "lm.fit(x_train,y_train)"
   ]
  },
  {
   "cell_type": "code",
   "execution_count": 48,
   "id": "ba759a29",
   "metadata": {},
   "outputs": [
    {
     "data": {
      "text/plain": [
       "47.17089171581952"
      ]
     },
     "execution_count": 48,
     "metadata": {},
     "output_type": "execute_result"
    }
   ],
   "source": [
    "lm.intercept_"
   ]
  },
  {
   "cell_type": "code",
   "execution_count": 49,
   "id": "b6e229c8",
   "metadata": {},
   "outputs": [
    {
     "data": {
      "text/plain": [
       "array([ 0.        ,  7.2662062 , -0.50259266])"
      ]
     },
     "execution_count": 49,
     "metadata": {},
     "output_type": "execute_result"
    }
   ],
   "source": [
    "lm.coef_\n",
    "#y=  47.17+ 7.26x -0.50x^2"
   ]
  },
  {
   "cell_type": "markdown",
   "id": "13722074",
   "metadata": {},
   "source": [
    "**4.Evaluate model on train data using Rsquare & MSE**"
   ]
  },
  {
   "cell_type": "code",
   "execution_count": 50,
   "id": "53a41651",
   "metadata": {},
   "outputs": [
    {
     "data": {
      "text/plain": [
       "(276,)"
      ]
     },
     "execution_count": 50,
     "metadata": {},
     "output_type": "execute_result"
    }
   ],
   "source": [
    "y_train_prediction= lm.predict(x_train)\n",
    "y_train_prediction.shape"
   ]
  },
  {
   "cell_type": "code",
   "execution_count": 51,
   "id": "8df1c0ed",
   "metadata": {},
   "outputs": [
    {
     "data": {
      "text/plain": [
       "0.5834474604165538"
      ]
     },
     "execution_count": 51,
     "metadata": {},
     "output_type": "execute_result"
    }
   ],
   "source": [
    "#Rsqure\n",
    "lm.score(x_train, y_train)"
   ]
  },
  {
   "cell_type": "code",
   "execution_count": 52,
   "id": "0549ca6e",
   "metadata": {},
   "outputs": [
    {
     "data": {
      "text/plain": [
       "0.5834474604165538"
      ]
     },
     "execution_count": 52,
     "metadata": {},
     "output_type": "execute_result"
    }
   ],
   "source": [
    "#Rquare from another library\n",
    "from sklearn.metrics import r2_score\n",
    "r2_score(y_train,lm.predict(x_train))"
   ]
  },
  {
   "cell_type": "code",
   "execution_count": 53,
   "id": "fdffbb96",
   "metadata": {},
   "outputs": [
    {
     "data": {
      "text/plain": [
       "5.834548169673586"
      ]
     },
     "execution_count": 53,
     "metadata": {},
     "output_type": "execute_result"
    }
   ],
   "source": [
    "# MSE\n",
    "mean_squared_error(y_train,lm.predict(x_train))"
   ]
  },
  {
   "cell_type": "markdown",
   "id": "0f6a7677",
   "metadata": {},
   "source": [
    "**5.Visualization**"
   ]
  },
  {
   "cell_type": "code",
   "execution_count": 54,
   "id": "05a6b89e",
   "metadata": {},
   "outputs": [
    {
     "data": {
      "text/plain": [
       "<matplotlib.legend.Legend at 0x22c97e95af0>"
      ]
     },
     "execution_count": 54,
     "metadata": {},
     "output_type": "execute_result"
    },
    {
     "data": {
      "image/png": "[encoded data removed]",
      "text/plain": [
       "<Figure size 432x288 with 1 Axes>"
      ]
     },
     "metadata": {
      "needs_background": "light"
     },
     "output_type": "display_data"
    }
   ],
   "source": [
    "sns.kdeplot(x= y_train,label=\"actual\")\n",
    "sns.kdeplot(x=lm.predict(x_train),label=\"predict\" )\n",
    "plt.legend()"
   ]
  },
  {
   "cell_type": "code",
   "execution_count": null,
   "id": "5ef47b1e",
   "metadata": {},
   "outputs": [],
   "source": []
  }
 ],
 "metadata": {
  "kernelspec": {
   "display_name": "Python 3",
   "language": "python",
   "name": "python3"
  },
  "language_info": {
   "codemirror_mode": {
    "name": "ipython",
    "version": 3
   },
   "file_extension": ".py",
   "mimetype": "text/x-python",
   "name": "python",
   "nbconvert_exporter": "python",
   "pygments_lexer": "ipython3",
   "version": "3.8.6"
  }
 },
 "nbformat": 4,
 "nbformat_minor": 5
}
