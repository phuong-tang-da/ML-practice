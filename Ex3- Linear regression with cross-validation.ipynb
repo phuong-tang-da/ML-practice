{
 "cells": [
  {
   "cell_type": "code",
   "execution_count": 1,
   "id": "af92522c",
   "metadata": {},
   "outputs": [],
   "source": [
    "import pandas as pd\n",
    "import seaborn as sns #regplot, kdeplot, histplot\n",
    "import matplotlib.pyplot as plt\n",
    "\n",
    "from sklearn.model_selection import train_test_split # train & test\n",
    "from sklearn.linear_model import LinearRegression # train Linear Regression model\n",
    "from sklearn.preprocessing import PolynomialFeatures # create Polynomial features\n",
    "from sklearn.metrics import mean_squared_error, mean_absolute_error # metric\n",
    "\n",
    "from sklearn.model_selection import cross_val_score # use for cross validation"
   ]
  },
  {
   "cell_type": "code",
   "execution_count": 2,
   "id": "2ad75faf",
   "metadata": {},
   "outputs": [],
   "source": [
    "rsquare_result=dict()"
   ]
  },
  {
   "cell_type": "code",
   "execution_count": 3,
   "id": "47904874",
   "metadata": {},
   "outputs": [],
   "source": [
    "df= pd.read_excel(\"economy.xlsx\")"
   ]
  },
  {
   "cell_type": "code",
   "execution_count": 4,
   "id": "acd5dde7",
   "metadata": {},
   "outputs": [
    {
     "data": {
      "text/html": [
       "<div>\n",
       "<style scoped>\n",
       "    .dataframe tbody tr th:only-of-type {\n",
       "        vertical-align: middle;\n",
       "    }\n",
       "\n",
       "    .dataframe tbody tr th {\n",
       "        vertical-align: top;\n",
       "    }\n",
       "\n",
       "    .dataframe thead th {\n",
       "        text-align: right;\n",
       "    }\n",
       "</style>\n",
       "<table border=\"1\" class=\"dataframe\">\n",
       "  <thead>\n",
       "    <tr style=\"text-align: right;\">\n",
       "      <th></th>\n",
       "      <th>Year</th>\n",
       "      <th>Month</th>\n",
       "      <th>Interest_Rate</th>\n",
       "      <th>Unemployment_Rate</th>\n",
       "      <th>Stock_Index_Price</th>\n",
       "    </tr>\n",
       "  </thead>\n",
       "  <tbody>\n",
       "    <tr>\n",
       "      <th>0</th>\n",
       "      <td>2017</td>\n",
       "      <td>12</td>\n",
       "      <td>2.75</td>\n",
       "      <td>5.3</td>\n",
       "      <td>1464</td>\n",
       "    </tr>\n",
       "    <tr>\n",
       "      <th>1</th>\n",
       "      <td>2017</td>\n",
       "      <td>11</td>\n",
       "      <td>2.50</td>\n",
       "      <td>5.3</td>\n",
       "      <td>1394</td>\n",
       "    </tr>\n",
       "    <tr>\n",
       "      <th>2</th>\n",
       "      <td>2017</td>\n",
       "      <td>10</td>\n",
       "      <td>2.50</td>\n",
       "      <td>5.3</td>\n",
       "      <td>1357</td>\n",
       "    </tr>\n",
       "    <tr>\n",
       "      <th>3</th>\n",
       "      <td>2017</td>\n",
       "      <td>9</td>\n",
       "      <td>2.50</td>\n",
       "      <td>5.3</td>\n",
       "      <td>1293</td>\n",
       "    </tr>\n",
       "    <tr>\n",
       "      <th>4</th>\n",
       "      <td>2017</td>\n",
       "      <td>8</td>\n",
       "      <td>2.50</td>\n",
       "      <td>5.4</td>\n",
       "      <td>1256</td>\n",
       "    </tr>\n",
       "  </tbody>\n",
       "</table>\n",
       "</div>"
      ],
      "text/plain": [
       "   Year  Month  Interest_Rate  Unemployment_Rate  Stock_Index_Price\n",
       "0  2017     12           2.75                5.3               1464\n",
       "1  2017     11           2.50                5.3               1394\n",
       "2  2017     10           2.50                5.3               1357\n",
       "3  2017      9           2.50                5.3               1293\n",
       "4  2017      8           2.50                5.4               1256"
      ]
     },
     "execution_count": 4,
     "metadata": {},
     "output_type": "execute_result"
    }
   ],
   "source": [
    "df.head()"
   ]
  },
  {
   "cell_type": "code",
   "execution_count": 5,
   "id": "6f8ff7a1",
   "metadata": {},
   "outputs": [
    {
     "data": {
      "text/plain": [
       "(24, 5)"
      ]
     },
     "execution_count": 5,
     "metadata": {},
     "output_type": "execute_result"
    }
   ],
   "source": [
    "df.shape"
   ]
  },
  {
   "cell_type": "markdown",
   "id": "dc522d26",
   "metadata": {},
   "source": [
    "# Multiple linear regression"
   ]
  },
  {
   "cell_type": "markdown",
   "id": "5a690faa",
   "metadata": {},
   "source": [
    "**1.choosing features**"
   ]
  },
  {
   "cell_type": "code",
   "execution_count": 6,
   "id": "dde8648c",
   "metadata": {},
   "outputs": [],
   "source": [
    "x= df[['Interest_Rate','Unemployment_Rate']]"
   ]
  },
  {
   "cell_type": "code",
   "execution_count": 7,
   "id": "abbc93ab",
   "metadata": {},
   "outputs": [],
   "source": [
    "y= df['Stock_Index_Price']"
   ]
  },
  {
   "cell_type": "markdown",
   "id": "77916c33",
   "metadata": {},
   "source": [
    "**2.split data**"
   ]
  },
  {
   "cell_type": "code",
   "execution_count": 8,
   "id": "69979ab9",
   "metadata": {},
   "outputs": [],
   "source": [
    "x_train,x_test,y_train,y_test= train_test_split(x,y,test_size=0.2, random_state=42)"
   ]
  },
  {
   "cell_type": "code",
   "execution_count": 9,
   "id": "3f9f76f6",
   "metadata": {},
   "outputs": [
    {
     "data": {
      "text/plain": [
       "(19, 2)"
      ]
     },
     "execution_count": 9,
     "metadata": {},
     "output_type": "execute_result"
    }
   ],
   "source": [
    "x_train.shape"
   ]
  },
  {
   "cell_type": "markdown",
   "id": "6248b909",
   "metadata": {},
   "source": [
    "**3.train model**"
   ]
  },
  {
   "cell_type": "code",
   "execution_count": 10,
   "id": "0d748d49",
   "metadata": {},
   "outputs": [],
   "source": [
    "lm=LinearRegression()"
   ]
  },
  {
   "cell_type": "code",
   "execution_count": 11,
   "id": "90ec9653",
   "metadata": {},
   "outputs": [
    {
     "data": {
      "text/plain": [
       "LinearRegression()"
      ]
     },
     "execution_count": 11,
     "metadata": {},
     "output_type": "execute_result"
    }
   ],
   "source": [
    "lm.fit(x_train,y_train)"
   ]
  },
  {
   "cell_type": "code",
   "execution_count": 12,
   "id": "48963f2e",
   "metadata": {},
   "outputs": [
    {
     "name": "stdout",
     "output_type": "stream",
     "text": [
      "[ 260.26126267 -360.55339049]\n",
      "2601.599844115357\n"
     ]
    }
   ],
   "source": [
    "print(lm.coef_)\n",
    "print(lm.intercept_)"
   ]
  },
  {
   "cell_type": "markdown",
   "id": "86e8fc11",
   "metadata": {},
   "source": [
    "**4.evaluate model**"
   ]
  },
  {
   "cell_type": "markdown",
   "id": "de21eea0",
   "metadata": {},
   "source": [
    "on train data"
   ]
  },
  {
   "cell_type": "code",
   "execution_count": 13,
   "id": "67b7df1c",
   "metadata": {},
   "outputs": [
    {
     "data": {
      "text/plain": [
       "0.9045353261246192"
      ]
     },
     "execution_count": 13,
     "metadata": {},
     "output_type": "execute_result"
    }
   ],
   "source": [
    "#r-square\n",
    "lm.score(x_train,y_train)"
   ]
  },
  {
   "cell_type": "code",
   "execution_count": 14,
   "id": "869cf0a1",
   "metadata": {},
   "outputs": [
    {
     "data": {
      "text/plain": [
       "4078.404774992821"
      ]
     },
     "execution_count": 14,
     "metadata": {},
     "output_type": "execute_result"
    }
   ],
   "source": [
    "#MSE\n",
    "mean_squared_error(y_train,lm.predict(x_train))"
   ]
  },
  {
   "cell_type": "markdown",
   "id": "8fc1ceb6",
   "metadata": {},
   "source": [
    "on test data"
   ]
  },
  {
   "cell_type": "code",
   "execution_count": 15,
   "id": "94b97a6f",
   "metadata": {},
   "outputs": [
    {
     "data": {
      "text/plain": [
       "0.8254940547158581"
      ]
     },
     "execution_count": 15,
     "metadata": {},
     "output_type": "execute_result"
    }
   ],
   "source": [
    "#r-square\n",
    "lm.score(x_test,y_test)"
   ]
  },
  {
   "cell_type": "code",
   "execution_count": 16,
   "id": "aa4c21b7",
   "metadata": {},
   "outputs": [
    {
     "data": {
      "text/plain": [
       "6957.10530325881"
      ]
     },
     "execution_count": 16,
     "metadata": {},
     "output_type": "execute_result"
    }
   ],
   "source": [
    "#MSE\n",
    "mean_squared_error(y_test,lm.predict(x_test))"
   ]
  },
  {
   "cell_type": "code",
   "execution_count": 17,
   "id": "f8e2d481",
   "metadata": {},
   "outputs": [],
   "source": [
    "rsquare_result['linear train']= 0.90\n",
    "rsquare_result['linear test']= 0.82"
   ]
  },
  {
   "cell_type": "code",
   "execution_count": 18,
   "id": "c1a970b3",
   "metadata": {},
   "outputs": [
    {
     "data": {
      "text/plain": [
       "{'linear train': 0.9, 'linear test': 0.82}"
      ]
     },
     "execution_count": 18,
     "metadata": {},
     "output_type": "execute_result"
    }
   ],
   "source": [
    "rsquare_result"
   ]
  },
  {
   "cell_type": "markdown",
   "id": "62981c8c",
   "metadata": {},
   "source": [
    "**5.Visualization on test data**"
   ]
  },
  {
   "cell_type": "code",
   "execution_count": 19,
   "id": "36cd6c44",
   "metadata": {},
   "outputs": [
    {
     "data": {
      "text/plain": [
       "<AxesSubplot:xlabel='Stock_Index_Price', ylabel='Density'>"
      ]
     },
     "execution_count": 19,
     "metadata": {},
     "output_type": "execute_result"
    },
    {
     "data": {
      "image/png": "[encoded data removed]",
      "text/plain": [
       "<Figure size 432x288 with 1 Axes>"
      ]
     },
     "metadata": {
      "needs_background": "light"
     },
     "output_type": "display_data"
    }
   ],
   "source": [
    "sns.kdeplot(x=y_test,label= \"actual value\",color='r')\n",
    "sns.kdeplot(x=lm.predict(x_test),label= \"predicted value\",color='b')"
   ]
  },
  {
   "cell_type": "markdown",
   "id": "01d20c56",
   "metadata": {},
   "source": [
    "**Using Cross validation for small sample size**"
   ]
  },
  {
   "cell_type": "code",
   "execution_count": 20,
   "id": "48d2cb08",
   "metadata": {},
   "outputs": [
    {
     "name": "stderr",
     "output_type": "stream",
     "text": [
      "C:\\Users\\tangh\\AppData\\Roaming\\Python\\Python38\\site-packages\\sklearn\\model_selection\\_validation.py:615: FitFailedWarning: Estimator fit failed. The score on this train-test partition for these parameters will be set to nan. Details: \n",
      "Traceback (most recent call last):\n",
      "  File \"C:\\Users\\tangh\\AppData\\Roaming\\Python\\Python38\\site-packages\\sklearn\\model_selection\\_validation.py\", line 598, in _fit_and_score\n",
      "    estimator.fit(X_train, y_train, **fit_params)\n",
      "  File \"C:\\Users\\tangh\\AppData\\Roaming\\Python\\Python38\\site-packages\\sklearn\\linear_model\\_base.py\", line 569, in fit\n",
      "    linalg.lstsq(X, y)\n",
      "  File \"C:\\Users\\tangh\\AppData\\Roaming\\Python\\Python38\\site-packages\\scipy\\linalg\\basic.py\", line 1209, in lstsq\n",
      "    raise ValueError('illegal value in %d-th argument of internal %s'\n",
      "ValueError: illegal value in 4-th argument of internal None\n",
      "\n",
      "  warnings.warn(\"Estimator fit failed. The score on this train-test\"\n"
     ]
    }
   ],
   "source": [
    "r_cross= cross_val_score(lm,x,y,cv=3)"
   ]
  },
  {
   "cell_type": "code",
   "execution_count": 21,
   "id": "d8519bc7",
   "metadata": {},
   "outputs": [
    {
     "data": {
      "text/plain": [
       "array([        nan,  0.38185452, -0.82918607])"
      ]
     },
     "execution_count": 21,
     "metadata": {},
     "output_type": "execute_result"
    }
   ],
   "source": [
    "r_cross"
   ]
  },
  {
   "cell_type": "code",
   "execution_count": 22,
   "id": "566bf3f8",
   "metadata": {},
   "outputs": [
    {
     "data": {
      "text/plain": [
       "array([ -2618.85404734,  -4597.45700504, -15040.68256345])"
      ]
     },
     "execution_count": 22,
     "metadata": {},
     "output_type": "execute_result"
    }
   ],
   "source": [
    "cross_val_score(lm,x,y,cv=3,scoring='neg_mean_squared_error')"
   ]
  },
  {
   "cell_type": "code",
   "execution_count": 23,
   "id": "fb2f922a",
   "metadata": {},
   "outputs": [
    {
     "data": {
      "text/plain": [
       "['accuracy',\n",
       " 'adjusted_mutual_info_score',\n",
       " 'adjusted_rand_score',\n",
       " 'average_precision',\n",
       " 'balanced_accuracy',\n",
       " 'completeness_score',\n",
       " 'explained_variance',\n",
       " 'f1',\n",
       " 'f1_macro',\n",
       " 'f1_micro',\n",
       " 'f1_samples',\n",
       " 'f1_weighted',\n",
       " 'fowlkes_mallows_score',\n",
       " 'homogeneity_score',\n",
       " 'jaccard',\n",
       " 'jaccard_macro',\n",
       " 'jaccard_micro',\n",
       " 'jaccard_samples',\n",
       " 'jaccard_weighted',\n",
       " 'max_error',\n",
       " 'mutual_info_score',\n",
       " 'neg_brier_score',\n",
       " 'neg_log_loss',\n",
       " 'neg_mean_absolute_error',\n",
       " 'neg_mean_absolute_percentage_error',\n",
       " 'neg_mean_gamma_deviance',\n",
       " 'neg_mean_poisson_deviance',\n",
       " 'neg_mean_squared_error',\n",
       " 'neg_mean_squared_log_error',\n",
       " 'neg_median_absolute_error',\n",
       " 'neg_root_mean_squared_error',\n",
       " 'normalized_mutual_info_score',\n",
       " 'precision',\n",
       " 'precision_macro',\n",
       " 'precision_micro',\n",
       " 'precision_samples',\n",
       " 'precision_weighted',\n",
       " 'r2',\n",
       " 'rand_score',\n",
       " 'recall',\n",
       " 'recall_macro',\n",
       " 'recall_micro',\n",
       " 'recall_samples',\n",
       " 'recall_weighted',\n",
       " 'roc_auc',\n",
       " 'roc_auc_ovo',\n",
       " 'roc_auc_ovo_weighted',\n",
       " 'roc_auc_ovr',\n",
       " 'roc_auc_ovr_weighted',\n",
       " 'top_k_accuracy',\n",
       " 'v_measure_score']"
      ]
     },
     "execution_count": 23,
     "metadata": {},
     "output_type": "execute_result"
    }
   ],
   "source": [
    "import sklearn\n",
    "sorted(sklearn.metrics.SCORERS.keys())"
   ]
  },
  {
   "cell_type": "markdown",
   "id": "10990912",
   "metadata": {},
   "source": [
    "# Polynominal Regression"
   ]
  },
  {
   "cell_type": "markdown",
   "id": "807b51e6",
   "metadata": {},
   "source": [
    "**1.Create new features**"
   ]
  },
  {
   "cell_type": "code",
   "execution_count": 24,
   "id": "f6e7a9e7",
   "metadata": {},
   "outputs": [],
   "source": [
    "pr= PolynomialFeatures(degree=2)"
   ]
  },
  {
   "cell_type": "code",
   "execution_count": 25,
   "id": "18cc33d5",
   "metadata": {},
   "outputs": [
    {
     "data": {
      "text/plain": [
       "PolynomialFeatures()"
      ]
     },
     "execution_count": 25,
     "metadata": {},
     "output_type": "execute_result"
    }
   ],
   "source": [
    "pr.fit(x)"
   ]
  },
  {
   "cell_type": "code",
   "execution_count": 26,
   "id": "aa359c54",
   "metadata": {},
   "outputs": [],
   "source": [
    "x_new= pr.transform(x)"
   ]
  },
  {
   "cell_type": "code",
   "execution_count": 27,
   "id": "3a570e7f",
   "metadata": {},
   "outputs": [
    {
     "name": "stdout",
     "output_type": "stream",
     "text": [
      "Interest_Rate        2.75\n",
      "Unemployment_Rate    5.30\n",
      "Name: 0, dtype: float64\n"
     ]
    }
   ],
   "source": [
    "print(x.iloc[0,])"
   ]
  },
  {
   "cell_type": "code",
   "execution_count": 28,
   "id": "6a5140db",
   "metadata": {},
   "outputs": [
    {
     "data": {
      "text/plain": [
       "array([ 1.    ,  2.75  ,  5.3   ,  7.5625, 14.575 , 28.09  ])"
      ]
     },
     "execution_count": 28,
     "metadata": {},
     "output_type": "execute_result"
    }
   ],
   "source": [
    "x_new[0]\n",
    "# a,b,a^2,b^2,ab"
   ]
  },
  {
   "cell_type": "markdown",
   "id": "18d48787",
   "metadata": {},
   "source": [
    "**2.split data**"
   ]
  },
  {
   "cell_type": "code",
   "execution_count": 29,
   "id": "b26fbd7b",
   "metadata": {},
   "outputs": [],
   "source": [
    "x_train,x_test,y_train,y_test= train_test_split(x_new,y,test_size=0.2, random_state=42)"
   ]
  },
  {
   "cell_type": "markdown",
   "id": "59f529c0",
   "metadata": {},
   "source": [
    "**3.train model**"
   ]
  },
  {
   "cell_type": "code",
   "execution_count": 30,
   "id": "71c3a6dc",
   "metadata": {},
   "outputs": [],
   "source": [
    "lm_new= LinearRegression()"
   ]
  },
  {
   "cell_type": "code",
   "execution_count": 31,
   "id": "68a8e0fb",
   "metadata": {},
   "outputs": [
    {
     "data": {
      "text/plain": [
       "LinearRegression()"
      ]
     },
     "execution_count": 31,
     "metadata": {},
     "output_type": "execute_result"
    }
   ],
   "source": [
    "lm_new.fit(x_train,y_train)"
   ]
  },
  {
   "cell_type": "code",
   "execution_count": 32,
   "id": "f8a5101e",
   "metadata": {},
   "outputs": [
    {
     "name": "stdout",
     "output_type": "stream",
     "text": [
      "[   0.         3348.30201172 2446.38520345 -415.80722084 -228.76399211\n",
      " -200.9385736 ]\n",
      "-8738.519329243229\n"
     ]
    }
   ],
   "source": [
    "print(lm_new.coef_)\n",
    "print(lm_new.intercept_)"
   ]
  },
  {
   "cell_type": "markdown",
   "id": "9dac122e",
   "metadata": {},
   "source": [
    "**4.evaluate model**"
   ]
  },
  {
   "cell_type": "markdown",
   "id": "fafc81e2",
   "metadata": {},
   "source": [
    "on train data"
   ]
  },
  {
   "cell_type": "code",
   "execution_count": 33,
   "id": "e6209acf",
   "metadata": {},
   "outputs": [
    {
     "data": {
      "text/plain": [
       "{'linear train': 0.9, 'linear test': 0.82, 'poly_train': 0.9127481676481951}"
      ]
     },
     "execution_count": 33,
     "metadata": {},
     "output_type": "execute_result"
    }
   ],
   "source": [
    "rsquare_result['poly_train']= lm_new.score(x_train,y_train)\n",
    "rsquare_result"
   ]
  },
  {
   "cell_type": "markdown",
   "id": "8886a489",
   "metadata": {},
   "source": [
    "on test data"
   ]
  },
  {
   "cell_type": "code",
   "execution_count": 34,
   "id": "aa4172f3",
   "metadata": {},
   "outputs": [
    {
     "data": {
      "text/plain": [
       "{'linear train': 0.9,\n",
       " 'linear test': 0.82,\n",
       " 'poly_train': 0.9127481676481951,\n",
       " 'poly_test': 0.7092870178914628}"
      ]
     },
     "execution_count": 34,
     "metadata": {},
     "output_type": "execute_result"
    }
   ],
   "source": [
    "rsquare_result['poly_test']= lm_new.score(x_test,y_test)\n",
    "rsquare_result\n",
    "# There is an overfit when using Polynominal Regression"
   ]
  },
  {
   "cell_type": "markdown",
   "id": "e3f94556",
   "metadata": {},
   "source": [
    "**5.visualization on test data**"
   ]
  },
  {
   "cell_type": "code",
   "execution_count": 35,
   "id": "73220cf0",
   "metadata": {},
   "outputs": [
    {
     "data": {
      "image/png": "[encoded data removed]",
      "text/plain": [
       "<Figure size 432x288 with 1 Axes>"
      ]
     },
     "metadata": {
      "needs_background": "light"
     },
     "output_type": "display_data"
    }
   ],
   "source": [
    "sns.kdeplot(x=y_test,label= \"actual value\",color='r')\n",
    "sns.kdeplot(x=lm_new.predict(x_test),label= \"predicted value\",color='b')\n",
    "plt.legend();"
   ]
  },
  {
   "cell_type": "code",
   "execution_count": null,
   "id": "006fb333",
   "metadata": {},
   "outputs": [],
   "source": []
  }
 ],
 "metadata": {
  "kernelspec": {
   "display_name": "Python 3",
   "language": "python",
   "name": "python3"
  },
  "language_info": {
   "codemirror_mode": {
    "name": "ipython",
    "version": 3
   },
   "file_extension": ".py",
   "mimetype": "text/x-python",
   "name": "python",
   "nbconvert_exporter": "python",
   "pygments_lexer": "ipython3",
   "version": "3.8.6"
  }
 },
 "nbformat": 4,
 "nbformat_minor": 5
}
